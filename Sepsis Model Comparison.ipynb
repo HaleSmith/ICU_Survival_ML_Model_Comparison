{
 "cells": [
  {
   "cell_type": "code",
   "execution_count": 134,
   "metadata": {
    "collapsed": false
   },
   "outputs": [],
   "source": [
    "import pandas as pd\n",
    "import numpy as np\n",
    "import xgboost as xgb\n",
    "\n",
    "import sklearn.preprocessing as skpp\n",
    "\n",
    "import datetime\n",
    "\n",
    "from mimicpreprocess import DataHandler"
   ]
  },
  {
   "cell_type": "code",
   "execution_count": 135,
   "metadata": {
    "collapsed": true
   },
   "outputs": [],
   "source": [
    "dh = DataHandler()\n",
    "dh.connect()"
   ]
  },
  {
   "cell_type": "code",
   "execution_count": 136,
   "metadata": {
    "collapsed": false
   },
   "outputs": [],
   "source": [
    "admissions = dh.admissions_query()\n",
    "patients = dh.patient_query()"
   ]
  },
  {
   "cell_type": "code",
   "execution_count": 159,
   "metadata": {
    "collapsed": false
   },
   "outputs": [
    {
     "data": {
      "text/html": [
       "<div>\n",
       "<table border=\"1\" class=\"dataframe\">\n",
       "  <thead>\n",
       "    <tr style=\"text-align: right;\">\n",
       "      <th></th>\n",
       "      <th>subject_id</th>\n",
       "      <th>hadm_id</th>\n",
       "      <th>admittime</th>\n",
       "      <th>admission_type</th>\n",
       "      <th>insurance</th>\n",
       "      <th>ethnicity</th>\n",
       "      <th>death_period</th>\n",
       "      <th>gender</th>\n",
       "      <th>dob</th>\n",
       "      <th>age</th>\n",
       "    </tr>\n",
       "  </thead>\n",
       "  <tbody>\n",
       "    <tr>\n",
       "      <th>0</th>\n",
       "      <td>357</td>\n",
       "      <td>122609</td>\n",
       "      <td>2198-11-01 22:36:00</td>\n",
       "      <td>EMERGENCY</td>\n",
       "      <td>Private</td>\n",
       "      <td>WHITE</td>\n",
       "      <td>0</td>\n",
       "      <td>M</td>\n",
       "      <td>2135-03-22</td>\n",
       "      <td>63</td>\n",
       "    </tr>\n",
       "    <tr>\n",
       "      <th>1</th>\n",
       "      <td>366</td>\n",
       "      <td>134462</td>\n",
       "      <td>2164-11-18 20:27:00</td>\n",
       "      <td>EMERGENCY</td>\n",
       "      <td>Medicare</td>\n",
       "      <td>HISPANIC OR LATINO</td>\n",
       "      <td>0</td>\n",
       "      <td>M</td>\n",
       "      <td>2112-05-22</td>\n",
       "      <td>52</td>\n",
       "    </tr>\n",
       "    <tr>\n",
       "      <th>2</th>\n",
       "      <td>94</td>\n",
       "      <td>183686</td>\n",
       "      <td>2176-02-25 16:49:00</td>\n",
       "      <td>EMERGENCY</td>\n",
       "      <td>Medicare</td>\n",
       "      <td>ASIAN</td>\n",
       "      <td>0</td>\n",
       "      <td>M</td>\n",
       "      <td>2101-09-20</td>\n",
       "      <td>74</td>\n",
       "    </tr>\n",
       "    <tr>\n",
       "      <th>3</th>\n",
       "      <td>21</td>\n",
       "      <td>111970</td>\n",
       "      <td>2135-01-30 20:50:00</td>\n",
       "      <td>EMERGENCY</td>\n",
       "      <td>Medicare</td>\n",
       "      <td>WHITE</td>\n",
       "      <td>1</td>\n",
       "      <td>M</td>\n",
       "      <td>2047-04-04</td>\n",
       "      <td>87</td>\n",
       "    </tr>\n",
       "    <tr>\n",
       "      <th>4</th>\n",
       "      <td>353</td>\n",
       "      <td>108923</td>\n",
       "      <td>2151-03-28 16:01:00</td>\n",
       "      <td>EMERGENCY</td>\n",
       "      <td>Medicare</td>\n",
       "      <td>WHITE</td>\n",
       "      <td>0</td>\n",
       "      <td>M</td>\n",
       "      <td>2089-07-23</td>\n",
       "      <td>61</td>\n",
       "    </tr>\n",
       "  </tbody>\n",
       "</table>\n",
       "</div>"
      ],
      "text/plain": [
       "   subject_id  hadm_id           admittime admission_type insurance  \\\n",
       "0         357   122609 2198-11-01 22:36:00      EMERGENCY   Private   \n",
       "1         366   134462 2164-11-18 20:27:00      EMERGENCY  Medicare   \n",
       "2          94   183686 2176-02-25 16:49:00      EMERGENCY  Medicare   \n",
       "3          21   111970 2135-01-30 20:50:00      EMERGENCY  Medicare   \n",
       "4         353   108923 2151-03-28 16:01:00      EMERGENCY  Medicare   \n",
       "\n",
       "            ethnicity  death_period gender        dob  age  \n",
       "0               WHITE             0      M 2135-03-22   63  \n",
       "1  HISPANIC OR LATINO             0      M 2112-05-22   52  \n",
       "2               ASIAN             0      M 2101-09-20   74  \n",
       "3               WHITE             1      M 2047-04-04   87  \n",
       "4               WHITE             0      M 2089-07-23   61  "
      ]
     },
     "execution_count": 159,
     "metadata": {},
     "output_type": "execute_result"
    }
   ],
   "source": [
    "patient_info.head()"
   ]
  },
  {
   "cell_type": "code",
   "execution_count": 186,
   "metadata": {
    "collapsed": false
   },
   "outputs": [],
   "source": [
    "patient_ids = patient_info.subject_id.tolist()\n",
    "patient_hadm_ids = patient_info.hadm_id.tolist()\n",
    "\n",
    "hadm_id_tuple_list = zip(patient_ids, patient_hadm_ids)\n",
    "\n",
    "prior_visits_query = dh.session.query(dh.Admission).filter(dh.Admission.subject_id.in_(patient_ids))#.filter(~dh.Admission.hadm_ids.in_(patient_hadm_ids))\n",
    "prior_visits = pd.read_sql(prior_visits_query.statement, prior_visits_query.session.bind).groupby('subject_id')\n",
    "\n",
    "admissions['prior'] = np.nan\n",
    "\n",
    "for patient_id, group in prior_visits:\n",
    "    patient_admissions = [item for item in hadm_id_tuple_list if item[0] == patient_id]\n",
    "\n",
    "    for item in patient_admissions:\n",
    "        admit_time = group.loc[group['hadm_id'] == item[1]].iloc[0]['admittime']\n",
    "        priors = len(group[(group['admittime'] < admit_time)])\n",
    "        admissions.loc[admissions.hadm_id == item[1], 'prior'] = priors"
   ]
  },
  {
   "cell_type": "code",
   "execution_count": 137,
   "metadata": {
    "collapsed": false
   },
   "outputs": [],
   "source": [
    "# Join patients and admission dataframes to obtain gender and age of patient\n",
    "patient_info = admissions.join(patients.set_index('subject_id'), on='subject_id')"
   ]
  },
  {
   "cell_type": "code",
   "execution_count": 138,
   "metadata": {
    "collapsed": false
   },
   "outputs": [],
   "source": [
    "patient_info['age'] = patient_info.apply (lambda row: dh.age (row),axis=1)"
   ]
  },
  {
   "cell_type": "code",
   "execution_count": 139,
   "metadata": {
    "collapsed": false
   },
   "outputs": [],
   "source": [
    "patient_vitals = dh.lab_event_query(patient_info)"
   ]
  },
  {
   "cell_type": "code",
   "execution_count": 140,
   "metadata": {
    "collapsed": false
   },
   "outputs": [
    {
     "data": {
      "text/plain": [
       "oxygen                   836\n",
       "pco2                     412\n",
       "PH                       355\n",
       "po2                      412\n",
       "tempurature              634\n",
       "lipase                   436\n",
       "hematocrit                 9\n",
       "hemoglobin                10\n",
       "INR                       68\n",
       "lymphocytes               58\n",
       "alkaline phosphatase     198\n",
       "MCH                       11\n",
       "amylase                  627\n",
       "neutrophils               58\n",
       "BUN                        8\n",
       "platelet                   8\n",
       "bicarbonate               14\n",
       "CRP                      993\n",
       "PTT                       68\n",
       "PT                        72\n",
       "RBCDW                     10\n",
       "calcium                   23\n",
       "ESR                     1120\n",
       "creatinine                 8\n",
       "WBC                     1172\n",
       "glucose                    9\n",
       "AST                      183\n",
       "lactate                   86\n",
       "dtype: int64"
      ]
     },
     "execution_count": 140,
     "metadata": {},
     "output_type": "execute_result"
    }
   ],
   "source": [
    "patient_vitals.isnull().sum()"
   ]
  },
  {
   "cell_type": "markdown",
   "metadata": {},
   "source": [
    "Start Running here"
   ]
  },
  {
   "cell_type": "code",
   "execution_count": 141,
   "metadata": {
    "collapsed": false
   },
   "outputs": [],
   "source": [
    "from itertools import chain\n",
    "# Vitals that will be kept. The rest dropped due to lack of data\n",
    "keep_vitals = ['bicarbonate' ,'INR' ,'MCH' ,'AST','alkaline phosphatase' , 'creatinine', 'platelet', 'PT', 'PTT', 'lymphocytes', 'RBCDW', 'calcium', 'neutrophils', 'glucose', 'hematocrit', 'hemoglobin', 'lactate', 'BUN']\n",
    "# keep_vitals = keep_vitals + list(chain.from_iterable((x + '_max', x + '_min') for x in keep_vitals))\n",
    "patient_vitals_fixed = patient_vitals[keep_vitals]"
   ]
  },
  {
   "cell_type": "code",
   "execution_count": 142,
   "metadata": {
    "collapsed": false
   },
   "outputs": [
    {
     "data": {
      "text/html": [
       "<div>\n",
       "<table border=\"1\" class=\"dataframe\">\n",
       "  <thead>\n",
       "    <tr style=\"text-align: right;\">\n",
       "      <th></th>\n",
       "      <th>bicarbonate</th>\n",
       "      <th>INR</th>\n",
       "      <th>MCH</th>\n",
       "      <th>AST</th>\n",
       "      <th>alkaline phosphatase</th>\n",
       "      <th>creatinine</th>\n",
       "      <th>platelet</th>\n",
       "      <th>PT</th>\n",
       "      <th>PTT</th>\n",
       "      <th>lymphocytes</th>\n",
       "      <th>RBCDW</th>\n",
       "      <th>calcium</th>\n",
       "      <th>neutrophils</th>\n",
       "      <th>glucose</th>\n",
       "      <th>hematocrit</th>\n",
       "      <th>hemoglobin</th>\n",
       "      <th>lactate</th>\n",
       "      <th>BUN</th>\n",
       "    </tr>\n",
       "    <tr>\n",
       "      <th>hadm_id</th>\n",
       "      <th></th>\n",
       "      <th></th>\n",
       "      <th></th>\n",
       "      <th></th>\n",
       "      <th></th>\n",
       "      <th></th>\n",
       "      <th></th>\n",
       "      <th></th>\n",
       "      <th></th>\n",
       "      <th></th>\n",
       "      <th></th>\n",
       "      <th></th>\n",
       "      <th></th>\n",
       "      <th></th>\n",
       "      <th></th>\n",
       "      <th></th>\n",
       "      <th></th>\n",
       "      <th></th>\n",
       "    </tr>\n",
       "  </thead>\n",
       "  <tbody>\n",
       "    <tr>\n",
       "      <th>169179</th>\n",
       "      <td>NaN</td>\n",
       "      <td>NaN</td>\n",
       "      <td>NaN</td>\n",
       "      <td>NaN</td>\n",
       "      <td>NaN</td>\n",
       "      <td>NaN</td>\n",
       "      <td>NaN</td>\n",
       "      <td>NaN</td>\n",
       "      <td>NaN</td>\n",
       "      <td>NaN</td>\n",
       "      <td>NaN</td>\n",
       "      <td>NaN</td>\n",
       "      <td>NaN</td>\n",
       "      <td>NaN</td>\n",
       "      <td>NaN</td>\n",
       "      <td>NaN</td>\n",
       "      <td>NaN</td>\n",
       "      <td>NaN</td>\n",
       "    </tr>\n",
       "    <tr>\n",
       "      <th>176442</th>\n",
       "      <td>30.000000</td>\n",
       "      <td>NaN</td>\n",
       "      <td>34.100000</td>\n",
       "      <td>NaN</td>\n",
       "      <td>NaN</td>\n",
       "      <td>0.400000</td>\n",
       "      <td>143.000000</td>\n",
       "      <td>NaN</td>\n",
       "      <td>NaN</td>\n",
       "      <td>11.0</td>\n",
       "      <td>14.50</td>\n",
       "      <td>9.10</td>\n",
       "      <td>78.0</td>\n",
       "      <td>106.000000</td>\n",
       "      <td>36.000</td>\n",
       "      <td>12.80</td>\n",
       "      <td>NaN</td>\n",
       "      <td>17.0</td>\n",
       "    </tr>\n",
       "    <tr>\n",
       "      <th>194197</th>\n",
       "      <td>30.000000</td>\n",
       "      <td>NaN</td>\n",
       "      <td>29.100000</td>\n",
       "      <td>NaN</td>\n",
       "      <td>NaN</td>\n",
       "      <td>0.700000</td>\n",
       "      <td>147.000000</td>\n",
       "      <td>NaN</td>\n",
       "      <td>NaN</td>\n",
       "      <td>NaN</td>\n",
       "      <td>16.70</td>\n",
       "      <td>8.30</td>\n",
       "      <td>NaN</td>\n",
       "      <td>162.000000</td>\n",
       "      <td>31.200</td>\n",
       "      <td>11.00</td>\n",
       "      <td>NaN</td>\n",
       "      <td>19.0</td>\n",
       "    </tr>\n",
       "    <tr>\n",
       "      <th>129316</th>\n",
       "      <td>NaN</td>\n",
       "      <td>NaN</td>\n",
       "      <td>NaN</td>\n",
       "      <td>26.0</td>\n",
       "      <td>82.0</td>\n",
       "      <td>NaN</td>\n",
       "      <td>NaN</td>\n",
       "      <td>NaN</td>\n",
       "      <td>NaN</td>\n",
       "      <td>NaN</td>\n",
       "      <td>NaN</td>\n",
       "      <td>NaN</td>\n",
       "      <td>NaN</td>\n",
       "      <td>NaN</td>\n",
       "      <td>NaN</td>\n",
       "      <td>NaN</td>\n",
       "      <td>2.10</td>\n",
       "      <td>NaN</td>\n",
       "    </tr>\n",
       "    <tr>\n",
       "      <th>187308</th>\n",
       "      <td>NaN</td>\n",
       "      <td>NaN</td>\n",
       "      <td>NaN</td>\n",
       "      <td>NaN</td>\n",
       "      <td>NaN</td>\n",
       "      <td>NaN</td>\n",
       "      <td>NaN</td>\n",
       "      <td>NaN</td>\n",
       "      <td>NaN</td>\n",
       "      <td>NaN</td>\n",
       "      <td>NaN</td>\n",
       "      <td>NaN</td>\n",
       "      <td>NaN</td>\n",
       "      <td>NaN</td>\n",
       "      <td>NaN</td>\n",
       "      <td>NaN</td>\n",
       "      <td>NaN</td>\n",
       "      <td>NaN</td>\n",
       "    </tr>\n",
       "    <tr>\n",
       "      <th>134921</th>\n",
       "      <td>23.000000</td>\n",
       "      <td>NaN</td>\n",
       "      <td>29.450000</td>\n",
       "      <td>NaN</td>\n",
       "      <td>NaN</td>\n",
       "      <td>1.500000</td>\n",
       "      <td>260.500000</td>\n",
       "      <td>NaN</td>\n",
       "      <td>NaN</td>\n",
       "      <td>17.1</td>\n",
       "      <td>14.40</td>\n",
       "      <td>8.35</td>\n",
       "      <td>78.3</td>\n",
       "      <td>123.750000</td>\n",
       "      <td>39.150</td>\n",
       "      <td>12.90</td>\n",
       "      <td>NaN</td>\n",
       "      <td>81.5</td>\n",
       "    </tr>\n",
       "    <tr>\n",
       "      <th>152414</th>\n",
       "      <td>23.000000</td>\n",
       "      <td>NaN</td>\n",
       "      <td>29.433333</td>\n",
       "      <td>NaN</td>\n",
       "      <td>NaN</td>\n",
       "      <td>0.750000</td>\n",
       "      <td>363.333333</td>\n",
       "      <td>NaN</td>\n",
       "      <td>NaN</td>\n",
       "      <td>9.9</td>\n",
       "      <td>13.60</td>\n",
       "      <td>NaN</td>\n",
       "      <td>85.8</td>\n",
       "      <td>105.000000</td>\n",
       "      <td>25.975</td>\n",
       "      <td>8.60</td>\n",
       "      <td>0.95</td>\n",
       "      <td>16.0</td>\n",
       "    </tr>\n",
       "    <tr>\n",
       "      <th>169398</th>\n",
       "      <td>24.666667</td>\n",
       "      <td>NaN</td>\n",
       "      <td>26.900000</td>\n",
       "      <td>NaN</td>\n",
       "      <td>NaN</td>\n",
       "      <td>1.266667</td>\n",
       "      <td>377.000000</td>\n",
       "      <td>NaN</td>\n",
       "      <td>NaN</td>\n",
       "      <td>13.0</td>\n",
       "      <td>13.05</td>\n",
       "      <td>8.45</td>\n",
       "      <td>82.8</td>\n",
       "      <td>113.333333</td>\n",
       "      <td>31.350</td>\n",
       "      <td>10.75</td>\n",
       "      <td>NaN</td>\n",
       "      <td>23.0</td>\n",
       "    </tr>\n",
       "    <tr>\n",
       "      <th>197907</th>\n",
       "      <td>NaN</td>\n",
       "      <td>NaN</td>\n",
       "      <td>NaN</td>\n",
       "      <td>NaN</td>\n",
       "      <td>NaN</td>\n",
       "      <td>NaN</td>\n",
       "      <td>NaN</td>\n",
       "      <td>NaN</td>\n",
       "      <td>NaN</td>\n",
       "      <td>NaN</td>\n",
       "      <td>NaN</td>\n",
       "      <td>NaN</td>\n",
       "      <td>NaN</td>\n",
       "      <td>NaN</td>\n",
       "      <td>NaN</td>\n",
       "      <td>NaN</td>\n",
       "      <td>NaN</td>\n",
       "      <td>NaN</td>\n",
       "    </tr>\n",
       "    <tr>\n",
       "      <th>115989</th>\n",
       "      <td>NaN</td>\n",
       "      <td>NaN</td>\n",
       "      <td>NaN</td>\n",
       "      <td>NaN</td>\n",
       "      <td>NaN</td>\n",
       "      <td>NaN</td>\n",
       "      <td>NaN</td>\n",
       "      <td>NaN</td>\n",
       "      <td>NaN</td>\n",
       "      <td>NaN</td>\n",
       "      <td>NaN</td>\n",
       "      <td>NaN</td>\n",
       "      <td>NaN</td>\n",
       "      <td>NaN</td>\n",
       "      <td>NaN</td>\n",
       "      <td>NaN</td>\n",
       "      <td>NaN</td>\n",
       "      <td>NaN</td>\n",
       "    </tr>\n",
       "    <tr>\n",
       "      <th>180378</th>\n",
       "      <td>NaN</td>\n",
       "      <td>NaN</td>\n",
       "      <td>NaN</td>\n",
       "      <td>NaN</td>\n",
       "      <td>NaN</td>\n",
       "      <td>NaN</td>\n",
       "      <td>NaN</td>\n",
       "      <td>NaN</td>\n",
       "      <td>NaN</td>\n",
       "      <td>NaN</td>\n",
       "      <td>NaN</td>\n",
       "      <td>NaN</td>\n",
       "      <td>NaN</td>\n",
       "      <td>NaN</td>\n",
       "      <td>NaN</td>\n",
       "      <td>NaN</td>\n",
       "      <td>NaN</td>\n",
       "      <td>NaN</td>\n",
       "    </tr>\n",
       "    <tr>\n",
       "      <th>163474</th>\n",
       "      <td>26.000000</td>\n",
       "      <td>NaN</td>\n",
       "      <td>32.300000</td>\n",
       "      <td>NaN</td>\n",
       "      <td>192.0</td>\n",
       "      <td>2.700000</td>\n",
       "      <td>199.000000</td>\n",
       "      <td>46.2</td>\n",
       "      <td>NaN</td>\n",
       "      <td>NaN</td>\n",
       "      <td>17.40</td>\n",
       "      <td>6.50</td>\n",
       "      <td>NaN</td>\n",
       "      <td>81.000000</td>\n",
       "      <td>21.400</td>\n",
       "      <td>7.10</td>\n",
       "      <td>NaN</td>\n",
       "      <td>34.0</td>\n",
       "    </tr>\n",
       "    <tr>\n",
       "      <th>140183</th>\n",
       "      <td>31.000000</td>\n",
       "      <td>NaN</td>\n",
       "      <td>33.700000</td>\n",
       "      <td>NaN</td>\n",
       "      <td>NaN</td>\n",
       "      <td>0.500000</td>\n",
       "      <td>166.000000</td>\n",
       "      <td>NaN</td>\n",
       "      <td>NaN</td>\n",
       "      <td>2.0</td>\n",
       "      <td>18.40</td>\n",
       "      <td>8.10</td>\n",
       "      <td>90.0</td>\n",
       "      <td>87.000000</td>\n",
       "      <td>37.400</td>\n",
       "      <td>12.90</td>\n",
       "      <td>NaN</td>\n",
       "      <td>25.0</td>\n",
       "    </tr>\n",
       "    <tr>\n",
       "      <th>192691</th>\n",
       "      <td>NaN</td>\n",
       "      <td>NaN</td>\n",
       "      <td>NaN</td>\n",
       "      <td>NaN</td>\n",
       "      <td>NaN</td>\n",
       "      <td>NaN</td>\n",
       "      <td>NaN</td>\n",
       "      <td>NaN</td>\n",
       "      <td>NaN</td>\n",
       "      <td>NaN</td>\n",
       "      <td>NaN</td>\n",
       "      <td>NaN</td>\n",
       "      <td>NaN</td>\n",
       "      <td>NaN</td>\n",
       "      <td>NaN</td>\n",
       "      <td>NaN</td>\n",
       "      <td>NaN</td>\n",
       "      <td>NaN</td>\n",
       "    </tr>\n",
       "    <tr>\n",
       "      <th>194695</th>\n",
       "      <td>17.000000</td>\n",
       "      <td>NaN</td>\n",
       "      <td>25.000000</td>\n",
       "      <td>NaN</td>\n",
       "      <td>NaN</td>\n",
       "      <td>0.850000</td>\n",
       "      <td>162.000000</td>\n",
       "      <td>NaN</td>\n",
       "      <td>NaN</td>\n",
       "      <td>NaN</td>\n",
       "      <td>16.70</td>\n",
       "      <td>6.20</td>\n",
       "      <td>NaN</td>\n",
       "      <td>77.000000</td>\n",
       "      <td>30.800</td>\n",
       "      <td>9.80</td>\n",
       "      <td>NaN</td>\n",
       "      <td>13.5</td>\n",
       "    </tr>\n",
       "    <tr>\n",
       "      <th>152550</th>\n",
       "      <td>NaN</td>\n",
       "      <td>NaN</td>\n",
       "      <td>NaN</td>\n",
       "      <td>NaN</td>\n",
       "      <td>NaN</td>\n",
       "      <td>NaN</td>\n",
       "      <td>NaN</td>\n",
       "      <td>NaN</td>\n",
       "      <td>NaN</td>\n",
       "      <td>NaN</td>\n",
       "      <td>NaN</td>\n",
       "      <td>NaN</td>\n",
       "      <td>NaN</td>\n",
       "      <td>NaN</td>\n",
       "      <td>NaN</td>\n",
       "      <td>NaN</td>\n",
       "      <td>NaN</td>\n",
       "      <td>NaN</td>\n",
       "    </tr>\n",
       "  </tbody>\n",
       "</table>\n",
       "</div>"
      ],
      "text/plain": [
       "         bicarbonate  INR        MCH   AST  alkaline phosphatase  creatinine  \\\n",
       "hadm_id                                                                        \n",
       "169179           NaN  NaN        NaN   NaN                   NaN         NaN   \n",
       "176442     30.000000  NaN  34.100000   NaN                   NaN    0.400000   \n",
       "194197     30.000000  NaN  29.100000   NaN                   NaN    0.700000   \n",
       "129316           NaN  NaN        NaN  26.0                  82.0         NaN   \n",
       "187308           NaN  NaN        NaN   NaN                   NaN         NaN   \n",
       "134921     23.000000  NaN  29.450000   NaN                   NaN    1.500000   \n",
       "152414     23.000000  NaN  29.433333   NaN                   NaN    0.750000   \n",
       "169398     24.666667  NaN  26.900000   NaN                   NaN    1.266667   \n",
       "197907           NaN  NaN        NaN   NaN                   NaN         NaN   \n",
       "115989           NaN  NaN        NaN   NaN                   NaN         NaN   \n",
       "180378           NaN  NaN        NaN   NaN                   NaN         NaN   \n",
       "163474     26.000000  NaN  32.300000   NaN                 192.0    2.700000   \n",
       "140183     31.000000  NaN  33.700000   NaN                   NaN    0.500000   \n",
       "192691           NaN  NaN        NaN   NaN                   NaN         NaN   \n",
       "194695     17.000000  NaN  25.000000   NaN                   NaN    0.850000   \n",
       "152550           NaN  NaN        NaN   NaN                   NaN         NaN   \n",
       "\n",
       "           platelet    PT  PTT  lymphocytes  RBCDW  calcium  neutrophils  \\\n",
       "hadm_id                                                                    \n",
       "169179          NaN   NaN  NaN          NaN    NaN      NaN          NaN   \n",
       "176442   143.000000   NaN  NaN         11.0  14.50     9.10         78.0   \n",
       "194197   147.000000   NaN  NaN          NaN  16.70     8.30          NaN   \n",
       "129316          NaN   NaN  NaN          NaN    NaN      NaN          NaN   \n",
       "187308          NaN   NaN  NaN          NaN    NaN      NaN          NaN   \n",
       "134921   260.500000   NaN  NaN         17.1  14.40     8.35         78.3   \n",
       "152414   363.333333   NaN  NaN          9.9  13.60      NaN         85.8   \n",
       "169398   377.000000   NaN  NaN         13.0  13.05     8.45         82.8   \n",
       "197907          NaN   NaN  NaN          NaN    NaN      NaN          NaN   \n",
       "115989          NaN   NaN  NaN          NaN    NaN      NaN          NaN   \n",
       "180378          NaN   NaN  NaN          NaN    NaN      NaN          NaN   \n",
       "163474   199.000000  46.2  NaN          NaN  17.40     6.50          NaN   \n",
       "140183   166.000000   NaN  NaN          2.0  18.40     8.10         90.0   \n",
       "192691          NaN   NaN  NaN          NaN    NaN      NaN          NaN   \n",
       "194695   162.000000   NaN  NaN          NaN  16.70     6.20          NaN   \n",
       "152550          NaN   NaN  NaN          NaN    NaN      NaN          NaN   \n",
       "\n",
       "            glucose  hematocrit  hemoglobin  lactate   BUN  \n",
       "hadm_id                                                     \n",
       "169179          NaN         NaN         NaN      NaN   NaN  \n",
       "176442   106.000000      36.000       12.80      NaN  17.0  \n",
       "194197   162.000000      31.200       11.00      NaN  19.0  \n",
       "129316          NaN         NaN         NaN     2.10   NaN  \n",
       "187308          NaN         NaN         NaN      NaN   NaN  \n",
       "134921   123.750000      39.150       12.90      NaN  81.5  \n",
       "152414   105.000000      25.975        8.60     0.95  16.0  \n",
       "169398   113.333333      31.350       10.75      NaN  23.0  \n",
       "197907          NaN         NaN         NaN      NaN   NaN  \n",
       "115989          NaN         NaN         NaN      NaN   NaN  \n",
       "180378          NaN         NaN         NaN      NaN   NaN  \n",
       "163474    81.000000      21.400        7.10      NaN  34.0  \n",
       "140183    87.000000      37.400       12.90      NaN  25.0  \n",
       "192691          NaN         NaN         NaN      NaN   NaN  \n",
       "194695    77.000000      30.800        9.80      NaN  13.5  \n",
       "152550          NaN         NaN         NaN      NaN   NaN  "
      ]
     },
     "execution_count": 142,
     "metadata": {},
     "output_type": "execute_result"
    }
   ],
   "source": [
    " patient_vitals_fixed[patient_vitals_fixed.isnull().sum(axis=1) >= 6]"
   ]
  },
  {
   "cell_type": "code",
   "execution_count": 143,
   "metadata": {
    "collapsed": false
   },
   "outputs": [],
   "source": [
    "# Find all hadm_ids where there are 6 or greater missing values. \n",
    "drop_hadm_ids = patient_vitals_fixed[patient_vitals_fixed.isnull().sum(axis=1) >= 6].index"
   ]
  },
  {
   "cell_type": "code",
   "execution_count": 144,
   "metadata": {
    "collapsed": true
   },
   "outputs": [],
   "source": [
    "patient_vitals_final = patient_vitals_fixed[~patient_vitals_fixed.index.isin(drop_hadm_ids)]"
   ]
  },
  {
   "cell_type": "code",
   "execution_count": 145,
   "metadata": {
    "collapsed": true
   },
   "outputs": [],
   "source": [
    "# Replace NaN values with the mean of each column. In the actual ML phase it may be worth figuring out WHY\n",
    "# Some values are missing. Here we will simply continue with mean.\n",
    "patient_vitals_final = patient_vitals_final.fillna(patient_vitals.mean())"
   ]
  },
  {
   "cell_type": "code",
   "execution_count": 146,
   "metadata": {
    "collapsed": true
   },
   "outputs": [],
   "source": [
    "# Add age column prior to standardization\n",
    "keep_vitals.append('age')"
   ]
  },
  {
   "cell_type": "code",
   "execution_count": 147,
   "metadata": {
    "collapsed": false
   },
   "outputs": [],
   "source": [
    "patient_info = patient_info[~patient_info.hadm_id.isin(drop_hadm_ids)]"
   ]
  },
  {
   "cell_type": "code",
   "execution_count": 148,
   "metadata": {
    "collapsed": false
   },
   "outputs": [],
   "source": [
    "# New patient info dataframe finally with vitals\n",
    "vital_patient_info = patient_info.join(patient_vitals_final, on='hadm_id')\n",
    "# vital_patient_info.isnull().sum()\n",
    "# Standardize the data from vital columns\n",
    "stdsc = skpp.StandardScaler()\n",
    "vital_patient_info[keep_vitals] = stdsc.fit_transform(vital_patient_info[keep_vitals])"
   ]
  },
  {
   "cell_type": "code",
   "execution_count": 149,
   "metadata": {
    "collapsed": false
   },
   "outputs": [],
   "source": [
    "potential_outliers = []\n",
    "from collections import Counter\n",
    "from IPython.display import display\n",
    "\n",
    "# For each feature find the data points with extreme high or low values\n",
    "for feature in patient_vitals_final.keys():\n",
    "\n",
    "    # Calculate Q1\n",
    "    Q1 = np.percentile(patient_vitals_final[feature], 25)\n",
    "    \n",
    "    # Calculate Q3\n",
    "    Q3 = np.percentile(patient_vitals_final[feature], 75)\n",
    "    \n",
    "    step = 1.5*(Q3-Q1)\n",
    "    \n",
    "    # Display the outliers\n",
    "    outlier = patient_vitals_final[~((patient_vitals_final[feature] >= Q1 - step) & (patient_vitals_final[feature] <= Q3 + step))]\n",
    "    potential_outliers += outlier.index.tolist()\n",
    "    \n",
    "# print Counter(potential_outliers)\n",
    "# len({k:v for (k,v) in Counter(potential_outliers).items() if v > 4})\n",
    "outliers = [k for (k,v) in Counter(potential_outliers).items() if v > 4]"
   ]
  },
  {
   "cell_type": "code",
   "execution_count": 150,
   "metadata": {
    "collapsed": false
   },
   "outputs": [],
   "source": [
    "vital_patient_info = vital_patient_info[~vital_patient_info.index.isin(outliers)]"
   ]
  },
  {
   "cell_type": "code",
   "execution_count": 151,
   "metadata": {
    "collapsed": true
   },
   "outputs": [],
   "source": [
    "y_vitals = vital_patient_info['death_period']\n",
    "X_vitals = vital_patient_info.drop(['death_period', 'subject_id', 'hadm_id', 'admittime', 'ethnicity', 'dob'], 1)\n",
    "X_vitals = pd.get_dummies(X_vitals)"
   ]
  },
  {
   "cell_type": "code",
   "execution_count": 152,
   "metadata": {
    "collapsed": false
   },
   "outputs": [],
   "source": [
    "from sklearn.ensemble import RandomForestClassifier\n",
    "from sklearn.grid_search import RandomizedSearchCV\n",
    "\n",
    "param_grid = {\n",
    "              \"n_estimators\": list(range(1,1000)),\n",
    "             }\n",
    "\n",
    "forest = RandomForestClassifier( random_state=42)"
   ]
  },
  {
   "cell_type": "code",
   "execution_count": 153,
   "metadata": {
    "collapsed": true
   },
   "outputs": [],
   "source": [
    "rand_for = RandomizedSearchCV(forest, param_grid, scoring = 'accuracy', n_iter=20, random_state=42)\n",
    "_ = rand_for.fit(X_vitals,y_vitals)"
   ]
  },
  {
   "cell_type": "code",
   "execution_count": 154,
   "metadata": {
    "collapsed": false
   },
   "outputs": [
    {
     "name": "stdout",
     "output_type": "stream",
     "text": [
      "0.821917808219\n",
      "{'n_estimators': 122}\n",
      "RandomForestClassifier(bootstrap=True, class_weight=None, criterion='gini',\n",
      "            max_depth=None, max_features='auto', max_leaf_nodes=None,\n",
      "            min_samples_leaf=1, min_samples_split=2,\n",
      "            min_weight_fraction_leaf=0.0, n_estimators=122, n_jobs=1,\n",
      "            oob_score=False, random_state=42, verbose=0, warm_start=False)\n"
     ]
    }
   ],
   "source": [
    "print(rand_for.best_score_)\n",
    "print(rand_for.best_params_)\n",
    "print(rand_for.best_estimator_)"
   ]
  },
  {
   "cell_type": "code",
   "execution_count": 155,
   "metadata": {
    "collapsed": false
   },
   "outputs": [
    {
     "name": "stdout",
     "output_type": "stream",
     "text": [
      "0) lactate 0.112848063183\n",
      "1) bicarbonate 0.0714871081807\n",
      "2) BUN 0.0699732552175\n",
      "3) PT 0.0566347543359\n",
      "4) calcium 0.0552498666893\n",
      "5) RBCDW 0.052879445113\n",
      "6) creatinine 0.0479052531285\n",
      "7) AST 0.0467770705944\n",
      "8) platelet 0.0466520676304\n",
      "9) hematocrit 0.0458771595783\n",
      "10) age 0.0446118351371\n",
      "11) alkaline phosphatase 0.0432309251201\n",
      "12) PTT 0.0431457470703\n",
      "13) MCH 0.0415636242685\n",
      "14) neutrophils 0.0412849764704\n",
      "15) hemoglobin 0.040515893532\n",
      "16) glucose 0.0394940451161\n",
      "17) lymphocytes 0.0393700587534\n",
      "18) INR 0.0368596141203\n",
      "19) gender_F 0.00553329104242\n",
      "20) insurance_Private 0.00484775322714\n",
      "21) insurance_Medicare 0.00476966047603\n",
      "22) gender_M 0.00458036830205\n",
      "23) insurance_Medicaid 0.00196060920857\n",
      "24) admission_type_EMERGENCY 0.000596496492116\n",
      "25) insurance_Government 0.000581188045311\n",
      "26) insurance_Self Pay 0.000466617674557\n",
      "27) admission_type_URGENT 0.000303252292218\n"
     ]
    }
   ],
   "source": [
    "importances = rand_for.best_estimator_.feature_importances_\n",
    "indices = np.argsort(importances)[::-1]\n",
    "for f in range(X_vitals.shape[1]):\n",
    "    print \"{}) {} {}\".format(f, X_vitals.columns[indices[f]], importances[indices[f]])"
   ]
  },
  {
   "cell_type": "markdown",
   "metadata": {
    "collapsed": true
   },
   "source": [
    "## Extreme Gradient Boosting"
   ]
  },
  {
   "cell_type": "code",
   "execution_count": 156,
   "metadata": {
    "collapsed": false
   },
   "outputs": [],
   "source": [
    "from sklearn.cross_validation import StratifiedKFold\n",
    "from sklearn.cross_validation import cross_val_score"
   ]
  },
  {
   "cell_type": "code",
   "execution_count": 157,
   "metadata": {
    "collapsed": false
   },
   "outputs": [
    {
     "name": "stdout",
     "output_type": "stream",
     "text": [
      "Accuracy: 82.02% (2.51%)\n"
     ]
    }
   ],
   "source": [
    "model = xgb.XGBClassifier(objective='binary:logistic')\n",
    "# kfold = KFold(n_folds=10, random_state=42)\n",
    "kfold = StratifiedKFold(y_vitals, n_folds=10, random_state=42)\n",
    "results = cross_val_score(model, X_vitals, y_vitals, cv=kfold)\n",
    "print(\"Accuracy: %.2f%% (%.2f%%)\" % (results.mean()*100, results.std()*100))"
   ]
  },
  {
   "cell_type": "code",
   "execution_count": 124,
   "metadata": {
    "collapsed": true
   },
   "outputs": [],
   "source": [
    "# from scipy.stats import randint as sp_randint\n",
    "from scipy.stats import expon\n",
    "\n",
    "param_grid = {\n",
    "                  \"max_depth\": list(range(1,20)),\n",
    "                \n",
    "             }"
   ]
  },
  {
   "cell_type": "code",
   "execution_count": 92,
   "metadata": {
    "collapsed": false
   },
   "outputs": [
    {
     "data": {
      "text/plain": [
       "0.010000000000000002"
      ]
     },
     "execution_count": 92,
     "metadata": {},
     "output_type": "execute_result"
    }
   ],
   "source": []
  },
  {
   "cell_type": "code",
   "execution_count": null,
   "metadata": {
    "collapsed": true
   },
   "outputs": [],
   "source": [
    "print(rand_XGB.best_score_)\n",
    "print(rand_XGB.best_params_)\n",
    "print(rand_XGB.best_estimator_)"
   ]
  },
  {
   "cell_type": "code",
   "execution_count": null,
   "metadata": {
    "collapsed": true
   },
   "outputs": [],
   "source": []
  }
 ],
 "metadata": {
  "kernelspec": {
   "display_name": "Python 2",
   "language": "python",
   "name": "python2"
  },
  "language_info": {
   "codemirror_mode": {
    "name": "ipython",
    "version": 2
   },
   "file_extension": ".py",
   "mimetype": "text/x-python",
   "name": "python",
   "nbconvert_exporter": "python",
   "pygments_lexer": "ipython2",
   "version": "2.7.13"
  }
 },
 "nbformat": 4,
 "nbformat_minor": 2
}
