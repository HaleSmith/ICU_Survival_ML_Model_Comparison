{
 "cells": [
  {
   "cell_type": "code",
   "execution_count": 139,
   "metadata": {
    "collapsed": false
   },
   "outputs": [],
   "source": [
    "import pandas as pd\n",
    "import numpy as np\n",
    "import xgboost as xgb\n",
    "\n",
    "import sklearn.preprocessing as skpp\n",
    "from sklearn.grid_search import RandomizedSearchCV\n",
    "from sklearn.grid_search import GridSearchCV\n",
    "\n",
    "import datetime\n",
    "\n",
    "import matplotlib.pyplot as plt\n",
    "\n",
    "from mimicpreprocess import DataHandler"
   ]
  },
  {
   "cell_type": "code",
   "execution_count": 2,
   "metadata": {
    "collapsed": true
   },
   "outputs": [],
   "source": [
    "dh = DataHandler()\n",
    "dh.connect()"
   ]
  },
  {
   "cell_type": "code",
   "execution_count": 3,
   "metadata": {
    "collapsed": false
   },
   "outputs": [],
   "source": [
    "admissions = dh.admissions_query()\n",
    "patients = dh.patient_query()\n",
    "dh.prior_hospital_stays(admissions)"
   ]
  },
  {
   "cell_type": "code",
   "execution_count": 4,
   "metadata": {
    "collapsed": false
   },
   "outputs": [],
   "source": [
    "# patient_ids = patient_info.subject_id.tolist()\n",
    "# patient_hadm_ids = patient_info.hadm_id.tolist()\n",
    "\n",
    "# hadm_id_tuple_list = zip(patient_ids, patient_hadm_ids)\n",
    "\n",
    "# prior_visits_query = dh.session.query(dh.Admission).filter(dh.Admission.subject_id.in_(patient_ids))\n",
    "# prior_visits = pd.read_sql(prior_visits_query.statement, prior_visits_query.session.bind).groupby('subject_id')\n",
    "\n",
    "# admissions['prior'] = np.nan\n",
    "\n",
    "# for patient_id, group in prior_visits:\n",
    "#     patient_admissions = [item for item in hadm_id_tuple_list if item[0] == patient_id]\n",
    "\n",
    "#     for item in patient_admissions:\n",
    "#         admit_time = group.loc[group['hadm_id'] == item[1]].iloc[0]['admittime']\n",
    "#         priors = len(group[(group['admittime'] < admit_time)])\n",
    "#         admissions.loc[admissions.hadm_id == item[1], 'prior'] = priors"
   ]
  },
  {
   "cell_type": "code",
   "execution_count": 5,
   "metadata": {
    "collapsed": false
   },
   "outputs": [],
   "source": [
    "# Join patients and admission dataframes to obtain gender and age of patient\n",
    "patient_info = admissions.join(patients.set_index('subject_id'), on='subject_id')"
   ]
  },
  {
   "cell_type": "code",
   "execution_count": 6,
   "metadata": {
    "collapsed": false
   },
   "outputs": [],
   "source": [
    "patient_info['age'] = patient_info.apply (lambda row: dh.age (row),axis=1)"
   ]
  },
  {
   "cell_type": "code",
   "execution_count": 7,
   "metadata": {
    "collapsed": false
   },
   "outputs": [],
   "source": [
    "patient_vitals = dh.lab_event_query(patient_info)"
   ]
  },
  {
   "cell_type": "code",
   "execution_count": 8,
   "metadata": {
    "collapsed": false
   },
   "outputs": [
    {
     "data": {
      "text/plain": [
       "oxygen                   836\n",
       "pco2                     412\n",
       "PH                       355\n",
       "po2                      412\n",
       "tempurature              634\n",
       "lipase                   436\n",
       "hematocrit                 9\n",
       "hemoglobin                10\n",
       "INR                       68\n",
       "lymphocytes               58\n",
       "alkaline phosphatase     198\n",
       "MCH                       11\n",
       "amylase                  627\n",
       "neutrophils               58\n",
       "BUN                        8\n",
       "platelet                   8\n",
       "bicarbonate               14\n",
       "CRP                      993\n",
       "PTT                       68\n",
       "PT                        72\n",
       "RBCDW                     10\n",
       "calcium                   23\n",
       "ESR                     1120\n",
       "creatinine                 8\n",
       "WBC                     1172\n",
       "glucose                    9\n",
       "AST                      183\n",
       "lactate                   86\n",
       "dtype: int64"
      ]
     },
     "execution_count": 8,
     "metadata": {},
     "output_type": "execute_result"
    }
   ],
   "source": [
    "patient_vitals.isnull().sum()"
   ]
  },
  {
   "cell_type": "code",
   "execution_count": 9,
   "metadata": {
    "collapsed": false
   },
   "outputs": [],
   "source": [
    "from itertools import chain\n",
    "# Vitals that will be kept. The rest dropped due to lack of data\n",
    "keep_vitals = ['bicarbonate' ,'INR' ,'MCH' ,'AST','alkaline phosphatase' , 'creatinine', 'platelet', 'PT', 'PTT', 'lymphocytes', 'RBCDW', 'calcium', 'neutrophils', 'glucose', 'hematocrit', 'hemoglobin', 'lactate', 'BUN']\n",
    "# keep_vitals = keep_vitals + list(chain.from_iterable((x + '_max', x + '_min') for x in keep_vitals))\n",
    "patient_vitals_fixed = patient_vitals[keep_vitals]"
   ]
  },
  {
   "cell_type": "code",
   "execution_count": 10,
   "metadata": {
    "collapsed": false
   },
   "outputs": [],
   "source": [
    "# Find all hadm_ids where there are 6 or greater missing values. \n",
    "drop_hadm_ids = patient_vitals_fixed[patient_vitals_fixed.isnull().sum(axis=1) >= 6].index"
   ]
  },
  {
   "cell_type": "code",
   "execution_count": 11,
   "metadata": {
    "collapsed": true
   },
   "outputs": [],
   "source": [
    "patient_vitals_final = patient_vitals_fixed[~patient_vitals_fixed.index.isin(drop_hadm_ids)]"
   ]
  },
  {
   "cell_type": "code",
   "execution_count": 12,
   "metadata": {
    "collapsed": true
   },
   "outputs": [],
   "source": [
    "# Replace NaN values with the mean of each column. In the actual ML phase it may be worth figuring out WHY\n",
    "# Some values are missing. Here we will simply continue with mean.\n",
    "patient_vitals_final = patient_vitals_final.fillna(patient_vitals.mean())"
   ]
  },
  {
   "cell_type": "code",
   "execution_count": 13,
   "metadata": {
    "collapsed": false
   },
   "outputs": [],
   "source": [
    "# Add age column prior to standardization\n",
    "# keep_vitals.append(['age', 'prior'])\n",
    "keep_vitals = keep_vitals + ['age', 'prior']"
   ]
  },
  {
   "cell_type": "code",
   "execution_count": 14,
   "metadata": {
    "collapsed": false
   },
   "outputs": [],
   "source": [
    "patient_info = patient_info[~patient_info.hadm_id.isin(drop_hadm_ids)]"
   ]
  },
  {
   "cell_type": "code",
   "execution_count": 145,
   "metadata": {
    "collapsed": false
   },
   "outputs": [],
   "source": [
    "# New patient info dataframe finally with vitals\n",
    "vital_patient_info = patient_info.join(patient_vitals_final, on='hadm_id')\n",
    "# vital_patient_info.isnull().sum()\n",
    "# Standardize the data from vital columns\n",
    "stdsc = skpp.StandardScaler()\n",
    "vital_patient_info[keep_vitals] = stdsc.fit_transform(vital_patient_info[keep_vitals])"
   ]
  },
  {
   "cell_type": "code",
   "execution_count": 16,
   "metadata": {
    "collapsed": false
   },
   "outputs": [],
   "source": [
    "potential_outliers = []\n",
    "from collections import Counter\n",
    "from IPython.display import display\n",
    "\n",
    "# For each feature find the data points with extreme high or low values\n",
    "for feature in patient_vitals_final.keys():\n",
    "\n",
    "    # Calculate Q1\n",
    "    Q1 = np.percentile(patient_vitals_final[feature], 25)\n",
    "    \n",
    "    # Calculate Q3\n",
    "    Q3 = np.percentile(patient_vitals_final[feature], 75)\n",
    "    \n",
    "    step = 1.5*(Q3-Q1)\n",
    "    \n",
    "    # Display the outliers\n",
    "    outlier = patient_vitals_final[~((patient_vitals_final[feature] >= Q1 - step) & (patient_vitals_final[feature] <= Q3 + step))]\n",
    "    potential_outliers += outlier.index.tolist()\n",
    "    \n",
    "# print Counter(potential_outliers)\n",
    "# len({k:v for (k,v) in Counter(potential_outliers).items() if v > 4})\n",
    "outliers = [k for (k,v) in Counter(potential_outliers).items() if v > 4]"
   ]
  },
  {
   "cell_type": "code",
   "execution_count": 149,
   "metadata": {
    "collapsed": false
   },
   "outputs": [],
   "source": [
    "vital_patient_info = vital_patient_info[~vital_patient_info.index.isin(outliers)]"
   ]
  },
  {
   "cell_type": "code",
   "execution_count": 110,
   "metadata": {
    "collapsed": true
   },
   "outputs": [],
   "source": [
    "y_vitals = vital_patient_info['death_period']\n",
    "X_vitals = vital_patient_info.drop(['death_period', 'subject_id', 'hadm_id', 'admittime', 'admission_type', 'insurance', 'ethnicity', 'dob'], 1) # 'insurance', 'admission_type', 'gender',\n",
    "X_vitals = pd.get_dummies(X_vitals)"
   ]
  },
  {
   "cell_type": "code",
   "execution_count": 19,
   "metadata": {
    "collapsed": false
   },
   "outputs": [],
   "source": [
    "from sklearn.ensemble import RandomForestClassifier\n",
    "\n",
    "param_grid = {\n",
    "              \"n_estimators\": list(range(1,1000)),\n",
    "             }\n",
    "\n",
    "forest = RandomForestClassifier( random_state=42)"
   ]
  },
  {
   "cell_type": "code",
   "execution_count": 20,
   "metadata": {
    "collapsed": false
   },
   "outputs": [],
   "source": [
    "rand_for = RandomizedSearchCV(forest, param_grid, scoring = 'accuracy', n_iter=20, random_state=42)\n",
    "_ = rand_for.fit(X_vitals,y_vitals)"
   ]
  },
  {
   "cell_type": "code",
   "execution_count": 21,
   "metadata": {
    "collapsed": false
   },
   "outputs": [
    {
     "name": "stdout",
     "output_type": "stream",
     "text": [
      "0.82448630137\n",
      "{'n_estimators': 131}\n",
      "RandomForestClassifier(bootstrap=True, class_weight=None, criterion='gini',\n",
      "            max_depth=None, max_features='auto', max_leaf_nodes=None,\n",
      "            min_samples_leaf=1, min_samples_split=2,\n",
      "            min_weight_fraction_leaf=0.0, n_estimators=131, n_jobs=1,\n",
      "            oob_score=False, random_state=42, verbose=0, warm_start=False)\n"
     ]
    }
   ],
   "source": [
    "print(rand_for.best_score_)\n",
    "print(rand_for.best_params_)\n",
    "print(rand_for.best_estimator_)"
   ]
  },
  {
   "cell_type": "code",
   "execution_count": 22,
   "metadata": {
    "collapsed": false
   },
   "outputs": [
    {
     "name": "stdout",
     "output_type": "stream",
     "text": [
      "0) lactate 0.115434454591\n",
      "1) bicarbonate 0.0671209293989\n",
      "2) BUN 0.0650089043145\n",
      "3) PT 0.0573642132081\n",
      "4) RBCDW 0.0537664646406\n",
      "5) calcium 0.0506562312684\n",
      "6) AST 0.0503630033364\n",
      "7) creatinine 0.0484696039888\n",
      "8) platelet 0.0450930026933\n",
      "9) MCH 0.0450482153684\n",
      "10) hematocrit 0.0440781553888\n",
      "11) age 0.0434707992538\n",
      "12) neutrophils 0.0414743800425\n",
      "13) PTT 0.0405690905634\n",
      "14) glucose 0.0402378295885\n",
      "15) lymphocytes 0.0394811695245\n",
      "16) hemoglobin 0.0393673406357\n",
      "17) alkaline phosphatase 0.0388349571895\n",
      "18) INR 0.0384430052938\n",
      "19) prior 0.0132265514185\n",
      "20) gender_M 0.00528846799034\n",
      "21) gender_F 0.00515472375546\n",
      "22) insurance_Medicare 0.0040038224327\n",
      "23) insurance_Private 0.00385707665873\n",
      "24) insurance_Medicaid 0.00222104268767\n",
      "25) insurance_Government 0.000757941182478\n",
      "26) admission_type_URGENT 0.000671819172487\n",
      "27) admission_type_EMERGENCY 0.000446841655848\n",
      "28) insurance_Self Pay 8.99627565743e-05\n"
     ]
    }
   ],
   "source": [
    "importances = rand_for.best_estimator_.feature_importances_\n",
    "indices = np.argsort(importances)[::-1]\n",
    "for f in range(X_vitals.shape[1]):\n",
    "    print \"{}) {} {}\".format(f, X_vitals.columns[indices[f]], importances[indices[f]])"
   ]
  },
  {
   "cell_type": "markdown",
   "metadata": {},
   "source": [
    "## Support Vector Machine"
   ]
  },
  {
   "cell_type": "code",
   "execution_count": 135,
   "metadata": {
    "collapsed": true
   },
   "outputs": [],
   "source": [
    "from sklearn.svm import SVC"
   ]
  },
  {
   "cell_type": "code",
   "execution_count": 140,
   "metadata": {
    "collapsed": true
   },
   "outputs": [],
   "source": [
    "sv_clf = SVC(random_state=42)\n",
    "\n",
    "param_grid = [\n",
    "              {'C': [1, 10, 100, 1000], \n",
    "               'kernel': ['linear']\n",
    "              },\n",
    "              {'C': [1, 10, 100, 1000], \n",
    "               'gamma': [0.001, 0.0001], \n",
    "               'kernel': ['rbf']\n",
    "              },\n",
    " ]"
   ]
  },
  {
   "cell_type": "code",
   "execution_count": 141,
   "metadata": {
    "collapsed": false
   },
   "outputs": [
    {
     "data": {
      "text/plain": [
       "GridSearchCV(cv=10, error_score='raise',\n",
       "       estimator=SVC(C=1.0, cache_size=200, class_weight=None, coef0=0.0,\n",
       "  decision_function_shape=None, degree=3, gamma='auto', kernel='rbf',\n",
       "  max_iter=-1, probability=False, random_state=42, shrinking=True,\n",
       "  tol=0.001, verbose=False),\n",
       "       fit_params={}, iid=True, n_jobs=1,\n",
       "       param_grid=[{'kernel': ['linear'], 'C': [1, 10, 100, 1000]}, {'kernel': ['rbf'], 'C': [1, 10, 100, 1000], 'gamma': [0.001, 0.0001]}],\n",
       "       pre_dispatch='2*n_jobs', refit=True, scoring='accuracy', verbose=0)"
      ]
     },
     "execution_count": 141,
     "metadata": {},
     "output_type": "execute_result"
    }
   ],
   "source": [
    "grid_sv = GridSearchCV(sv_clf, param_grid, cv=10, scoring=\"accuracy\")\n",
    "grid_sv.fit(X_vitals,y_vitals)"
   ]
  },
  {
   "cell_type": "code",
   "execution_count": 142,
   "metadata": {
    "collapsed": false
   },
   "outputs": [
    {
     "name": "stdout",
     "output_type": "stream",
     "text": [
      "0.818493150685\n",
      "{'kernel': 'rbf', 'C': 1000, 'gamma': 0.001}\n",
      "SVC(C=1000, cache_size=200, class_weight=None, coef0=0.0,\n",
      "  decision_function_shape=None, degree=3, gamma=0.001, kernel='rbf',\n",
      "  max_iter=-1, probability=False, random_state=42, shrinking=True,\n",
      "  tol=0.001, verbose=False)\n"
     ]
    }
   ],
   "source": [
    "print(grid_sv.best_score_)\n",
    "print(grid_sv.best_params_)\n",
    "print(grid_sv.best_estimator_)"
   ]
  },
  {
   "cell_type": "markdown",
   "metadata": {
    "collapsed": true
   },
   "source": [
    "## Extreme Gradient Boosting"
   ]
  },
  {
   "cell_type": "code",
   "execution_count": 23,
   "metadata": {
    "collapsed": false
   },
   "outputs": [],
   "source": [
    "from sklearn.cross_validation import StratifiedKFold\n",
    "from sklearn.cross_validation import cross_val_score"
   ]
  },
  {
   "cell_type": "code",
   "execution_count": 24,
   "metadata": {
    "collapsed": false
   },
   "outputs": [
    {
     "name": "stdout",
     "output_type": "stream",
     "text": [
      "Accuracy: 82.28% (2.37%)\n"
     ]
    }
   ],
   "source": [
    "model = xgb.XGBClassifier(objective='binary:logistic')\n",
    "# kfold = KFold(n_folds=10, random_state=42)\n",
    "kfold = StratifiedKFold(y_vitals, n_folds=10, random_state=42)\n",
    "results = cross_val_score(model, X_vitals, y_vitals, cv=kfold)\n",
    "print(\"Accuracy: %.2f%% (%.2f%%)\" % (results.mean()*100, results.std()*100))"
   ]
  },
  {
   "cell_type": "code",
   "execution_count": 26,
   "metadata": {
    "collapsed": false
   },
   "outputs": [],
   "source": [
    "param_grid = {\n",
    "                \"max_depth\": list(range(1,20)),\n",
    "                \"gamma\": list(range(0, 20)) + [i/10.0 for i in range(0,10)],\n",
    "                \"min_child_weight\":list(range(0,20))\n",
    "                \n",
    "             }"
   ]
  },
  {
   "cell_type": "code",
   "execution_count": 27,
   "metadata": {
    "collapsed": false
   },
   "outputs": [],
   "source": [
    "rand_XGB = RandomizedSearchCV(xgb.XGBClassifier(learning_rate =0.1, n_estimators=140, max_depth=5,\n",
    " min_child_weight=1, gamma=0, subsample=0.8, colsample_bytree=0.8,\n",
    " objective= 'binary:logistic', nthread=4, scale_pos_weight=1, seed=27), param_grid, scoring = 'accuracy', n_iter=100, random_state=42)\n",
    "_ = rand_XGB.fit(X_vitals,y_vitals)"
   ]
  },
  {
   "cell_type": "code",
   "execution_count": 28,
   "metadata": {
    "collapsed": false
   },
   "outputs": [
    {
     "name": "stdout",
     "output_type": "stream",
     "text": [
      "0.830479452055\n",
      "{'gamma': 6, 'max_depth': 8, 'min_child_weight': 13}\n",
      "XGBClassifier(base_score=0.5, colsample_bylevel=1, colsample_bytree=0.8,\n",
      "       gamma=6, learning_rate=0.1, max_delta_step=0, max_depth=8,\n",
      "       min_child_weight=13, missing=None, n_estimators=140, nthread=4,\n",
      "       objective='binary:logistic', reg_alpha=0, reg_lambda=1,\n",
      "       scale_pos_weight=1, seed=27, silent=True, subsample=0.8)\n"
     ]
    }
   ],
   "source": [
    "print(rand_XGB.best_score_)\n",
    "print(rand_XGB.best_params_)\n",
    "print(rand_XGB.best_estimator_)"
   ]
  },
  {
   "cell_type": "markdown",
   "metadata": {},
   "source": [
    "## Neural Network with Keras/TensorFlow"
   ]
  },
  {
   "cell_type": "code",
   "execution_count": 50,
   "metadata": {
    "collapsed": false
   },
   "outputs": [],
   "source": [
    "from keras.models import Sequential\n",
    "from keras.layers import Dense, Dropout, Activation\n",
    "from keras.optimizers import SGD\n",
    "from keras.constraints import maxnorm\n",
    "\n",
    "model = Sequential()"
   ]
  },
  {
   "cell_type": "code",
   "execution_count": 150,
   "metadata": {
    "collapsed": false
   },
   "outputs": [],
   "source": [
    "model = Sequential()\n",
    "\n",
    "model.add(Dense(125, input_dim=len(X_vitals.columns), activation='relu'))\n",
    "model.add(Dropout(0.5))\n",
    "model.add(Dense(50, activation='relu', kernel_constraint=maxnorm(3)))\n",
    "model.add(Dropout(0.5))\n",
    "model.add(Dense(20, activation='relu', kernel_constraint=maxnorm(3)))\n",
    "model.add(Dropout(0.5))\n",
    "model.add(Dense(10, activation='relu', kernel_constraint=maxnorm(3)))\n",
    "model.add(Dropout(0.5))\n",
    "model.add(Dense(1, activation='sigmoid'))\n",
    "\n",
    "model.compile(loss='binary_crossentropy',\n",
    "              optimizer='rmsprop',\n",
    "              metrics=['accuracy'])"
   ]
  },
  {
   "cell_type": "code",
   "execution_count": 151,
   "metadata": {
    "collapsed": false
   },
   "outputs": [],
   "source": [
    "history = model.fit(X_vitals.as_matrix(), y_vitals.as_matrix(), validation_split=0.33, epochs=500, batch_size=128, verbose=0)"
   ]
  },
  {
   "cell_type": "code",
   "execution_count": 152,
   "metadata": {
    "collapsed": false
   },
   "outputs": [
    {
     "data": {
      "image/png": "[encoded data removed]",
      "text/plain": [
       "<matplotlib.figure.Figure at 0x12fbb2bd0>"
      ]
     },
     "metadata": {},
     "output_type": "display_data"
    },
    {
     "data": {
      "image/png": "[encoded data removed]",
      "text/plain": [
       "<matplotlib.figure.Figure at 0x12fbdde90>"
      ]
     },
     "metadata": {},
     "output_type": "display_data"
    }
   ],
   "source": [
    "plt.plot(history.history['acc'])\n",
    "plt.plot(history.history['val_acc'])\n",
    "plt.title('model accuracy')\n",
    "plt.ylabel('accuracy')\n",
    "plt.xlabel('epoch')\n",
    "plt.legend(['train', 'test'], loc='upper left')\n",
    "plt.show()\n",
    "# summarize history for loss\n",
    "plt.plot(history.history['loss'])\n",
    "plt.plot(history.history['val_loss'])\n",
    "plt.title('model loss')\n",
    "plt.ylabel('loss')\n",
    "plt.xlabel('epoch')\n",
    "plt.legend(['train', 'test'], loc='upper left')\n",
    "plt.show()"
   ]
  },
  {
   "cell_type": "code",
   "execution_count": 153,
   "metadata": {
    "collapsed": false
   },
   "outputs": [
    {
     "data": {
      "text/plain": [
       "[0.81088082901554404,\n",
       " 0.80829015544041449,\n",
       " 0.80829015544041449,\n",
       " 0.80829015544041449,\n",
       " 0.80829015544041449,\n",
       " 0.80829015544041449,\n",
       " 0.80829015544041449,\n",
       " 0.80829015544041449,\n",
       " 0.80829015544041449,\n",
       " 0.80829015544041449,\n",
       " 0.80829015544041449,\n",
       " 0.80829015544041449,\n",
       " 0.80829015544041449,\n",
       " 0.81088082901554404,\n",
       " 0.81088082901554404,\n",
       " 0.81088082901554404,\n",
       " 0.81088082901554404,\n",
       " 0.81088082901554404,\n",
       " 0.81088082901554404,\n",
       " 0.81088082901554404,\n",
       " 0.81347150259067358,\n",
       " 0.81347150259067358,\n",
       " 0.81606217616580312,\n",
       " 0.81347150259067358,\n",
       " 0.81865284974093266,\n",
       " 0.82124352331606221,\n",
       " 0.81865284974093266,\n",
       " 0.82383419689119175,\n",
       " 0.81865284974093266,\n",
       " 0.82124352331606221,\n",
       " 0.82124352331606221,\n",
       " 0.82124352331606221,\n",
       " 0.82124352331606221,\n",
       " 0.82642487046632129,\n",
       " 0.82642487046632129,\n",
       " 0.82642487046632129,\n",
       " 0.82124352331606221,\n",
       " 0.82124352331606221,\n",
       " 0.82124352331606221,\n",
       " 0.82124352331606221,\n",
       " 0.82124352331606221,\n",
       " 0.82124352331606221,\n",
       " 0.82124352331606221,\n",
       " 0.82124352331606221,\n",
       " 0.82124352331606221,\n",
       " 0.82383419689119175,\n",
       " 0.81865284974093266,\n",
       " 0.82124352331606221,\n",
       " 0.82383419689119175,\n",
       " 0.82383419689119175,\n",
       " 0.82383419689119175,\n",
       " 0.82383419689119175,\n",
       " 0.82642487046632129,\n",
       " 0.82901554404145072,\n",
       " 0.83160621761658027,\n",
       " 0.83160621761658027,\n",
       " 0.83160621761658027,\n",
       " 0.83160621761658027,\n",
       " 0.83160621761658027,\n",
       " 0.83419689119170981,\n",
       " 0.83419689119170981,\n",
       " 0.83678756476683935,\n",
       " 0.83419689119170981,\n",
       " 0.83419689119170981,\n",
       " 0.83419689119170981,\n",
       " 0.83419689119170981,\n",
       " 0.83160621761658027,\n",
       " 0.83160621761658027,\n",
       " 0.83160621761658027,\n",
       " 0.83419689119170981,\n",
       " 0.83419689119170981,\n",
       " 0.83160621761658027,\n",
       " 0.83419689119170981,\n",
       " 0.83160621761658027,\n",
       " 0.82901554404145072,\n",
       " 0.82901554404145072,\n",
       " 0.83678756476683935,\n",
       " 0.84196891191709844,\n",
       " 0.84455958549222798,\n",
       " 0.8393782383419689,\n",
       " 0.8393782383419689,\n",
       " 0.84455958549222798,\n",
       " 0.84455958549222798,\n",
       " 0.84715025906735753,\n",
       " 0.84715025906735753,\n",
       " 0.84196891191709844,\n",
       " 0.84196891191709844,\n",
       " 0.84196891191709844,\n",
       " 0.84455958549222798,\n",
       " 0.84196891191709844,\n",
       " 0.84455958549222798,\n",
       " 0.84715025906735753,\n",
       " 0.84715025906735753,\n",
       " 0.84715025906735753,\n",
       " 0.84974093264248707,\n",
       " 0.84974093264248707,\n",
       " 0.85233160621761661,\n",
       " 0.84974093264248707,\n",
       " 0.85233160621761661,\n",
       " 0.84974093264248707,\n",
       " 0.84715025906735753,\n",
       " 0.84455958549222798,\n",
       " 0.84715025906735753,\n",
       " 0.85233160621761661,\n",
       " 0.84974093264248707,\n",
       " 0.84715025906735753,\n",
       " 0.8393782383419689,\n",
       " 0.8393782383419689,\n",
       " 0.84196891191709844,\n",
       " 0.8393782383419689,\n",
       " 0.83419689119170981,\n",
       " 0.83678756476683935,\n",
       " 0.8393782383419689,\n",
       " 0.83678756476683935,\n",
       " 0.8393782383419689,\n",
       " 0.83419689119170981,\n",
       " 0.8393782383419689,\n",
       " 0.83419689119170981,\n",
       " 0.8393782383419689,\n",
       " 0.84196891191709844,\n",
       " 0.8393782383419689,\n",
       " 0.8393782383419689,\n",
       " 0.83678756476683935,\n",
       " 0.8393782383419689,\n",
       " 0.84196891191709844,\n",
       " 0.83678756476683935,\n",
       " 0.8393782383419689,\n",
       " 0.8393782383419689,\n",
       " 0.8393782383419689,\n",
       " 0.8393782383419689,\n",
       " 0.8393782383419689,\n",
       " 0.83160621761658027,\n",
       " 0.84196891191709844,\n",
       " 0.83678756476683935,\n",
       " 0.83419689119170981,\n",
       " 0.8393782383419689,\n",
       " 0.83419689119170981,\n",
       " 0.83160621761658027,\n",
       " 0.83419689119170981,\n",
       " 0.83678756476683935,\n",
       " 0.8393782383419689,\n",
       " 0.8393782383419689,\n",
       " 0.83678756476683935,\n",
       " 0.8393782383419689,\n",
       " 0.83678756476683935,\n",
       " 0.8393782383419689,\n",
       " 0.83419689119170981,\n",
       " 0.83419689119170981,\n",
       " 0.83678756476683935,\n",
       " 0.83419689119170981,\n",
       " 0.83419689119170981,\n",
       " 0.83419689119170981,\n",
       " 0.83160621761658027,\n",
       " 0.82901554404145072,\n",
       " 0.82383419689119175,\n",
       " 0.82901554404145072,\n",
       " 0.82383419689119175,\n",
       " 0.82901554404145072,\n",
       " 0.82642487046632129,\n",
       " 0.82642487046632129,\n",
       " 0.82383419689119175,\n",
       " 0.82642487046632129,\n",
       " 0.82383419689119175,\n",
       " 0.82383419689119175,\n",
       " 0.82642487046632129,\n",
       " 0.81347150259067358,\n",
       " 0.81606217616580312,\n",
       " 0.81606217616580312,\n",
       " 0.81606217616580312,\n",
       " 0.81606217616580312,\n",
       " 0.81606217616580312,\n",
       " 0.81606217616580312,\n",
       " 0.82124352331606221,\n",
       " 0.81347150259067358,\n",
       " 0.81347150259067358,\n",
       " 0.81606217616580312,\n",
       " 0.81865284974093266,\n",
       " 0.81865284974093266,\n",
       " 0.81606217616580312,\n",
       " 0.81865284974093266,\n",
       " 0.81865284974093266,\n",
       " 0.82124352331606221,\n",
       " 0.82383419689119175,\n",
       " 0.82383419689119175,\n",
       " 0.82901554404145072,\n",
       " 0.82383419689119175,\n",
       " 0.82383419689119175,\n",
       " 0.82124352331606221,\n",
       " 0.82901554404145072,\n",
       " 0.82642487046632129,\n",
       " 0.81606217616580312,\n",
       " 0.81606217616580312,\n",
       " 0.81865284974093266,\n",
       " 0.82124352331606221,\n",
       " 0.82124352331606221,\n",
       " 0.83160621761658027,\n",
       " 0.81606217616580312,\n",
       " 0.82124352331606221,\n",
       " 0.82124352331606221,\n",
       " 0.81865284974093266,\n",
       " 0.81865284974093266,\n",
       " 0.80569948186528495,\n",
       " 0.80569948186528495,\n",
       " 0.81088082901554404,\n",
       " 0.81606217616580312,\n",
       " 0.81606217616580312,\n",
       " 0.81347150259067358,\n",
       " 0.81347150259067358,\n",
       " 0.81606217616580312,\n",
       " 0.81606217616580312,\n",
       " 0.81606217616580312,\n",
       " 0.80829015544041449,\n",
       " 0.80310880829015541,\n",
       " 0.80051813471502586,\n",
       " 0.80569948186528495,\n",
       " 0.80569948186528495,\n",
       " 0.81347150259067358,\n",
       " 0.81347150259067358,\n",
       " 0.80569948186528495,\n",
       " 0.81088082901554404,\n",
       " 0.81347150259067358,\n",
       " 0.80829015544041449,\n",
       " 0.81088082901554404,\n",
       " 0.80829015544041449,\n",
       " 0.80829015544041449,\n",
       " 0.80569948186528495,\n",
       " 0.81606217616580312,\n",
       " 0.81606217616580312,\n",
       " 0.81347150259067358,\n",
       " 0.81088082901554404,\n",
       " 0.80569948186528495,\n",
       " 0.81347150259067358,\n",
       " 0.81088082901554404,\n",
       " 0.80829015544041449,\n",
       " 0.80051813471502586,\n",
       " 0.80569948186528495,\n",
       " 0.80310880829015541,\n",
       " 0.80829015544041449,\n",
       " 0.80051813471502586,\n",
       " 0.80310880829015541,\n",
       " 0.80829015544041449,\n",
       " 0.80829015544041449,\n",
       " 0.81606217616580312,\n",
       " 0.81088082901554404,\n",
       " 0.81347150259067358,\n",
       " 0.80829015544041449,\n",
       " 0.80310880829015541,\n",
       " 0.80051813471502586,\n",
       " 0.81088082901554404,\n",
       " 0.81606217616580312,\n",
       " 0.81088082901554404,\n",
       " 0.80569948186528495,\n",
       " 0.79792746113989632,\n",
       " 0.79533678756476689,\n",
       " 0.79274611398963735,\n",
       " 0.7901554404145078,\n",
       " 0.7901554404145078,\n",
       " 0.78756476683937826,\n",
       " 0.7901554404145078,\n",
       " 0.78756476683937826,\n",
       " 0.78756476683937826,\n",
       " 0.78756476683937826,\n",
       " 0.7901554404145078,\n",
       " 0.7901554404145078,\n",
       " 0.79274611398963735,\n",
       " 0.79274611398963735,\n",
       " 0.79274611398963735,\n",
       " 0.79274611398963735,\n",
       " 0.79274611398963735,\n",
       " 0.79274611398963735,\n",
       " 0.79274611398963735,\n",
       " 0.79274611398963735,\n",
       " 0.79533678756476689,\n",
       " 0.79792746113989632,\n",
       " 0.80051813471502586,\n",
       " 0.79533678756476689,\n",
       " 0.78756476683937826,\n",
       " 0.78756476683937826,\n",
       " 0.79274611398963735,\n",
       " 0.78497409326424872,\n",
       " 0.78497409326424872,\n",
       " 0.79274611398963735,\n",
       " 0.79274611398963735,\n",
       " 0.7901554404145078,\n",
       " 0.79274611398963735,\n",
       " 0.79533678756476689,\n",
       " 0.7901554404145078,\n",
       " 0.79533678756476689,\n",
       " 0.79533678756476689,\n",
       " 0.78756476683937826,\n",
       " 0.78756476683937826,\n",
       " 0.7901554404145078,\n",
       " 0.79274611398963735,\n",
       " 0.78756476683937826,\n",
       " 0.78756476683937826,\n",
       " 0.79274611398963735,\n",
       " 0.79274611398963735,\n",
       " 0.79274611398963735,\n",
       " 0.79533678756476689,\n",
       " 0.80051813471502586,\n",
       " 0.80569948186528495,\n",
       " 0.79792746113989632,\n",
       " 0.79792746113989632,\n",
       " 0.79792746113989632,\n",
       " 0.80051813471502586,\n",
       " 0.7901554404145078,\n",
       " 0.79274611398963735,\n",
       " 0.79274611398963735,\n",
       " 0.7901554404145078,\n",
       " 0.80051813471502586,\n",
       " 0.79792746113989632,\n",
       " 0.79792746113989632,\n",
       " 0.79274611398963735,\n",
       " 0.7901554404145078,\n",
       " 0.7901554404145078,\n",
       " 0.79792746113989632,\n",
       " 0.7901554404145078,\n",
       " 0.79533678756476689,\n",
       " 0.79274611398963735,\n",
       " 0.80051813471502586,\n",
       " 0.79274611398963735,\n",
       " 0.78756476683937826,\n",
       " 0.78497409326424872,\n",
       " 0.78497409326424872,\n",
       " 0.79533678756476689,\n",
       " 0.80051813471502586,\n",
       " 0.7901554404145078,\n",
       " 0.78238341968911918,\n",
       " 0.78756476683937826,\n",
       " 0.77979274611398963,\n",
       " 0.78756476683937826,\n",
       " 0.78756476683937826,\n",
       " 0.79533678756476689,\n",
       " 0.78756476683937826,\n",
       " 0.77979274611398963,\n",
       " 0.78756476683937826,\n",
       " 0.7901554404145078,\n",
       " 0.7901554404145078,\n",
       " 0.77979274611398963,\n",
       " 0.77979274611398963,\n",
       " 0.79533678756476689,\n",
       " 0.78497409326424872,\n",
       " 0.7901554404145078,\n",
       " 0.78756476683937826,\n",
       " 0.79274611398963735,\n",
       " 0.78756476683937826,\n",
       " 0.77979274611398963,\n",
       " 0.78497409326424872,\n",
       " 0.7901554404145078,\n",
       " 0.78238341968911918,\n",
       " 0.77979274611398963,\n",
       " 0.76943005181347146,\n",
       " 0.77461139896373055,\n",
       " 0.78497409326424872,\n",
       " 0.79274611398963735,\n",
       " 0.78756476683937826,\n",
       " 0.79274611398963735,\n",
       " 0.78238341968911918,\n",
       " 0.77979274611398963,\n",
       " 0.78238341968911918,\n",
       " 0.78238341968911918,\n",
       " 0.78497409326424872,\n",
       " 0.78497409326424872,\n",
       " 0.78238341968911918,\n",
       " 0.78756476683937826,\n",
       " 0.7901554404145078,\n",
       " 0.78756476683937826,\n",
       " 0.78497409326424872,\n",
       " 0.77720207253886009,\n",
       " 0.78497409326424872,\n",
       " 0.78497409326424872,\n",
       " 0.78497409326424872,\n",
       " 0.7901554404145078,\n",
       " 0.79274611398963735,\n",
       " 0.79533678756476689,\n",
       " 0.79274611398963735,\n",
       " 0.78238341968911918,\n",
       " 0.78238341968911918,\n",
       " 0.78238341968911918,\n",
       " 0.77720207253886009,\n",
       " 0.77461139896373055,\n",
       " 0.77461139896373055,\n",
       " 0.772020725388601,\n",
       " 0.76683937823834192,\n",
       " 0.76683937823834192,\n",
       " 0.772020725388601,\n",
       " 0.76683937823834192,\n",
       " 0.772020725388601,\n",
       " 0.77461139896373055,\n",
       " 0.772020725388601,\n",
       " 0.772020725388601,\n",
       " 0.76424870466321249,\n",
       " 0.76424870466321249,\n",
       " 0.76165803108808294,\n",
       " 0.76165803108808294,\n",
       " 0.76424870466321249,\n",
       " 0.76683937823834192,\n",
       " 0.76683937823834192,\n",
       " 0.77720207253886009,\n",
       " 0.772020725388601,\n",
       " 0.77461139896373055,\n",
       " 0.75647668393782386,\n",
       " 0.772020725388601,\n",
       " 0.772020725388601,\n",
       " 0.77461139896373055,\n",
       " 0.78238341968911918,\n",
       " 0.78238341968911918,\n",
       " 0.77979274611398963,\n",
       " 0.78497409326424872,\n",
       " 0.77720207253886009,\n",
       " 0.772020725388601,\n",
       " 0.76424870466321249,\n",
       " 0.76943005181347146,\n",
       " 0.772020725388601,\n",
       " 0.772020725388601,\n",
       " 0.77720207253886009,\n",
       " 0.77461139896373055,\n",
       " 0.772020725388601,\n",
       " 0.772020725388601,\n",
       " 0.772020725388601,\n",
       " 0.76683937823834192,\n",
       " 0.76683937823834192,\n",
       " 0.772020725388601,\n",
       " 0.76943005181347146,\n",
       " 0.76683937823834192,\n",
       " 0.77979274611398963,\n",
       " 0.77720207253886009,\n",
       " 0.77720207253886009,\n",
       " 0.76165803108808294,\n",
       " 0.76424870466321249,\n",
       " 0.77461139896373055,\n",
       " 0.77979274611398963,\n",
       " 0.77461139896373055,\n",
       " 0.77461139896373055,\n",
       " 0.76943005181347146,\n",
       " 0.76165803108808294,\n",
       " 0.76424870466321249,\n",
       " 0.76683937823834192,\n",
       " 0.76943005181347146,\n",
       " 0.76683937823834192,\n",
       " 0.77461139896373055,\n",
       " 0.77720207253886009,\n",
       " 0.77720207253886009,\n",
       " 0.77720207253886009,\n",
       " 0.77720207253886009,\n",
       " 0.77979274611398963,\n",
       " 0.78756476683937826,\n",
       " 0.77979274611398963,\n",
       " 0.77720207253886009,\n",
       " 0.76943005181347146,\n",
       " 0.77979274611398963,\n",
       " 0.77720207253886009,\n",
       " 0.78238341968911918,\n",
       " 0.78756476683937826,\n",
       " 0.78497409326424872,\n",
       " 0.78756476683937826,\n",
       " 0.78756476683937826,\n",
       " 0.77720207253886009,\n",
       " 0.78756476683937826,\n",
       " 0.78756476683937826,\n",
       " 0.78497409326424872,\n",
       " 0.77979274611398963,\n",
       " 0.77979274611398963,\n",
       " 0.77979274611398963,\n",
       " 0.77720207253886009,\n",
       " 0.78238341968911918,\n",
       " 0.78238341968911918,\n",
       " 0.77979274611398963,\n",
       " 0.77461139896373055,\n",
       " 0.77461139896373055,\n",
       " 0.76683937823834192,\n",
       " 0.78238341968911918,\n",
       " 0.78756476683937826,\n",
       " 0.77720207253886009,\n",
       " 0.77979274611398963,\n",
       " 0.77720207253886009,\n",
       " 0.77979274611398963,\n",
       " 0.77461139896373055,\n",
       " 0.77720207253886009,\n",
       " 0.78497409326424872,\n",
       " 0.772020725388601,\n",
       " 0.772020725388601,\n",
       " 0.77979274611398963,\n",
       " 0.77720207253886009,\n",
       " 0.78238341968911918,\n",
       " 0.77979274611398963,\n",
       " 0.77461139896373055,\n",
       " 0.78497409326424872,\n",
       " 0.78497409326424872,\n",
       " 0.78497409326424872,\n",
       " 0.78238341968911918,\n",
       " 0.77979274611398963,\n",
       " 0.79274611398963735,\n",
       " 0.80051813471502586,\n",
       " 0.7901554404145078,\n",
       " 0.79274611398963735,\n",
       " 0.7901554404145078,\n",
       " 0.78756476683937826,\n",
       " 0.77979274611398963,\n",
       " 0.77461139896373055]"
      ]
     },
     "execution_count": 153,
     "metadata": {},
     "output_type": "execute_result"
    }
   ],
   "source": [
    "history.history['val_acc']"
   ]
  },
  {
   "cell_type": "code",
   "execution_count": null,
   "metadata": {
    "collapsed": true
   },
   "outputs": [],
   "source": []
  }
 ],
 "metadata": {
  "kernelspec": {
   "display_name": "Python 2",
   "language": "python",
   "name": "python2"
  },
  "language_info": {
   "codemirror_mode": {
    "name": "ipython",
    "version": 2
   },
   "file_extension": ".py",
   "mimetype": "text/x-python",
   "name": "python",
   "nbconvert_exporter": "python",
   "pygments_lexer": "ipython2",
   "version": "2.7.13"
  }
 },
 "nbformat": 4,
 "nbformat_minor": 2
}
