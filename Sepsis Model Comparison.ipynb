{
 "cells": [
  {
   "cell_type": "code",
   "execution_count": 31,
   "metadata": {
    "collapsed": false
   },
   "outputs": [],
   "source": [
    "import pandas as pd\n",
    "import numpy as np\n",
    "\n",
    "import sklearn.preprocessing as skpp\n",
    "\n",
    "import datetime\n",
    "\n",
    "from mimicpreprocess import DataHandler"
   ]
  },
  {
   "cell_type": "code",
   "execution_count": 2,
   "metadata": {
    "collapsed": true
   },
   "outputs": [],
   "source": [
    "dh = DataHandler()\n",
    "dh.connect()"
   ]
  },
  {
   "cell_type": "code",
   "execution_count": 3,
   "metadata": {
    "collapsed": false
   },
   "outputs": [],
   "source": [
    "admissions = dh.admissions_query()\n",
    "patients = dh.patient_query()"
   ]
  },
  {
   "cell_type": "code",
   "execution_count": 4,
   "metadata": {
    "collapsed": false
   },
   "outputs": [],
   "source": [
    "# Join patients and admission dataframes to obtain gender and age of patient\n",
    "patient_info = admissions.join(patients.set_index('subject_id'), on='subject_id')"
   ]
  },
  {
   "cell_type": "code",
   "execution_count": 5,
   "metadata": {
    "collapsed": false
   },
   "outputs": [],
   "source": [
    "patient_info['age'] = patient_info.apply (lambda row: dh.age (row),axis=1)"
   ]
  },
  {
   "cell_type": "code",
   "execution_count": 6,
   "metadata": {
    "collapsed": false
   },
   "outputs": [],
   "source": [
    "patient_vitals = dh.lab_event_query(patient_info)"
   ]
  },
  {
   "cell_type": "code",
   "execution_count": 7,
   "metadata": {
    "collapsed": false
   },
   "outputs": [
    {
     "data": {
      "text/plain": [
       "oxygen                   836\n",
       "pco2                     412\n",
       "PH                       355\n",
       "po2                      412\n",
       "tempurature              634\n",
       "lipase                   436\n",
       "hematocrit                 9\n",
       "hemoglobin                10\n",
       "INR                       68\n",
       "lymphocytes               58\n",
       "alkaline phosphatase     198\n",
       "MCH                       11\n",
       "amylase                  627\n",
       "neutrophils               58\n",
       "BUN                        8\n",
       "platelet                   8\n",
       "bicarbonate               14\n",
       "CRP                      993\n",
       "PTT                       68\n",
       "PT                        72\n",
       "RBCDW                     10\n",
       "calcium                   23\n",
       "ESR                     1120\n",
       "creatinine                 8\n",
       "WBC                     1172\n",
       "glucose                    9\n",
       "AST                      183\n",
       "lactate                   86\n",
       "dtype: int64"
      ]
     },
     "execution_count": 7,
     "metadata": {},
     "output_type": "execute_result"
    }
   ],
   "source": [
    "patient_vitals.isnull().sum()"
   ]
  },
  {
   "cell_type": "code",
   "execution_count": 41,
   "metadata": {
    "collapsed": true
   },
   "outputs": [],
   "source": [
    "# Vitals that will be kept. The rest dropped due to lack of data\n",
    "keep_vitals = ['bicarbonate' ,'INR' ,'MCH' ,'AST','alkaline phosphatase' , 'creatinine', 'platelet', 'PT', 'PTT', 'lymphocytes', 'RBCDW', 'calcium', 'neutrophils', 'glucose', 'hematocrit', 'hemoglobin', 'lactate', 'BUN']\n",
    "patient_vitals_fixed = patient_vitals[keep_vitals]"
   ]
  },
  {
   "cell_type": "code",
   "execution_count": 42,
   "metadata": {
    "collapsed": false
   },
   "outputs": [],
   "source": [
    "# Find all hadm_ids where there are 6 or greater missing values. \n",
    "drop_hadm_ids = patient_vitals_fixed[patient_vitals_fixed.isnull().sum(axis=1) >= 6].index"
   ]
  },
  {
   "cell_type": "code",
   "execution_count": 43,
   "metadata": {
    "collapsed": true
   },
   "outputs": [],
   "source": [
    "patient_vitals_final = patient_vitals_fixed[~patient_vitals_fixed.index.isin(drop_hadm_ids)]"
   ]
  },
  {
   "cell_type": "code",
   "execution_count": 44,
   "metadata": {
    "collapsed": true
   },
   "outputs": [],
   "source": [
    "# Replace NaN values with the mean of each column. In the actual ML phase it may be worth figuring out WHY\n",
    "# Some values are missing. Here we will simply continue with mean.\n",
    "patient_vitals_final = patient_vitals_final.fillna(patient_vitals.mean())"
   ]
  },
  {
   "cell_type": "code",
   "execution_count": 45,
   "metadata": {
    "collapsed": true
   },
   "outputs": [],
   "source": [
    "# Add age column prior to standardization\n",
    "keep_vitals.append('age')"
   ]
  },
  {
   "cell_type": "code",
   "execution_count": 46,
   "metadata": {
    "collapsed": false
   },
   "outputs": [],
   "source": [
    "patient_info = patient_info[~patient_info.hadm_id.isin(drop_hadm_ids)]"
   ]
  },
  {
   "cell_type": "code",
   "execution_count": 47,
   "metadata": {
    "collapsed": false
   },
   "outputs": [],
   "source": [
    "# New patient info dataframe finally with vitals\n",
    "vital_patient_info = patient_info.join(patient_vitals_final, on='hadm_id')\n",
    "# Standardize the data from vital columns\n",
    "stdsc = skpp.StandardScaler()\n",
    "vital_patient_info[keep_vitals] = stdsc.fit_transform(vital_patient_info[keep_vitals])"
   ]
  },
  {
   "cell_type": "code",
   "execution_count": 48,
   "metadata": {
    "collapsed": true
   },
   "outputs": [],
   "source": [
    "y_vitals = vital_patient_info['death_period']\n",
    "X_vitals = vital_patient_info.drop(['death_period', 'subject_id', 'hadm_id', 'admittime', 'ethnicity', 'dob'], 1)\n",
    "X_vitals = pd.get_dummies(X_vitals)"
   ]
  },
  {
   "cell_type": "code",
   "execution_count": 49,
   "metadata": {
    "collapsed": false
   },
   "outputs": [],
   "source": [
    "from sklearn.ensemble import RandomForestClassifier\n",
    "from sklearn.grid_search import RandomizedSearchCV\n",
    "\n",
    "param_grid = {\n",
    "              \"n_estimators\": list(range(1,1000)),\n",
    "             }\n",
    "\n",
    "forest = RandomForestClassifier( random_state=42)"
   ]
  },
  {
   "cell_type": "code",
   "execution_count": 50,
   "metadata": {
    "collapsed": true
   },
   "outputs": [],
   "source": [
    "rand_for = RandomizedSearchCV(forest, param_grid, scoring = 'accuracy', n_iter=20, random_state=42)\n",
    "_ = rand_for.fit(X_vitals,y_vitals)"
   ]
  },
  {
   "cell_type": "code",
   "execution_count": 51,
   "metadata": {
    "collapsed": false
   },
   "outputs": [
    {
     "name": "stdout",
     "output_type": "stream",
     "text": [
      "0.829732065687\n",
      "{'n_estimators': 373}\n",
      "RandomForestClassifier(bootstrap=True, class_weight=None, criterion='gini',\n",
      "            max_depth=None, max_features='auto', max_leaf_nodes=None,\n",
      "            min_samples_leaf=1, min_samples_split=2,\n",
      "            min_weight_fraction_leaf=0.0, n_estimators=373, n_jobs=1,\n",
      "            oob_score=False, random_state=42, verbose=0, warm_start=False)\n"
     ]
    }
   ],
   "source": [
    "print(rand_for.best_score_)\n",
    "print(rand_for.best_params_)\n",
    "print(rand_for.best_estimator_)"
   ]
  },
  {
   "cell_type": "code",
   "execution_count": 40,
   "metadata": {
    "collapsed": false
   },
   "outputs": [
    {
     "name": "stdout",
     "output_type": "stream",
     "text": [
      "0) lactate 0.10169740538\n",
      "1) PH 0.0957207952629\n",
      "2) BUN 0.0653723517137\n",
      "3) bicarbonate 0.0610648516347\n",
      "4) RBCDW 0.0524488090263\n",
      "5) PT 0.0488486405863\n",
      "6) calcium 0.0466598960835\n",
      "7) platelet 0.0429403892511\n",
      "8) AST 0.042490336142\n",
      "9) hematocrit 0.041786466757\n",
      "10) lymphocytes 0.0409871260711\n",
      "11) creatinine 0.0397929653068\n",
      "12) age 0.039282650099\n",
      "13) alkaline phosphatase 0.039056730029\n",
      "14) hemoglobin 0.0381365597273\n",
      "15) glucose 0.0377600935078\n",
      "16) neutrophils 0.037352046988\n",
      "17) MCH 0.0363418698086\n",
      "18) PTT 0.0361581634321\n",
      "19) INR 0.0352000572538\n",
      "20) gender_F 0.00545707548579\n",
      "21) insurance_Private 0.00437659390715\n",
      "22) gender_M 0.00408658802974\n",
      "23) insurance_Medicare 0.00345513230779\n",
      "24) insurance_Medicaid 0.00204048070053\n",
      "25) insurance_Self Pay 0.000641049700574\n",
      "26) insurance_Government 0.000617778428711\n",
      "27) admission_type_URGENT 0.000153892308281\n",
      "28) admission_type_EMERGENCY 7.32050702833e-05\n"
     ]
    }
   ],
   "source": [
    "importances = rand_for.best_estimator_.feature_importances_\n",
    "indices = np.argsort(importances)[::-1]\n",
    "for f in range(X_vitals.shape[1]):\n",
    "    print \"{}) {} {}\".format(f, X_vitals.columns[indices[f]], importances[indices[f]])"
   ]
  },
  {
   "cell_type": "code",
   "execution_count": null,
   "metadata": {
    "collapsed": true
   },
   "outputs": [],
   "source": []
  }
 ],
 "metadata": {
  "kernelspec": {
   "display_name": "Python 2",
   "language": "python",
   "name": "python2"
  },
  "language_info": {
   "codemirror_mode": {
    "name": "ipython",
    "version": 2
   },
   "file_extension": ".py",
   "mimetype": "text/x-python",
   "name": "python",
   "nbconvert_exporter": "python",
   "pygments_lexer": "ipython2",
   "version": "2.7.13"
  }
 },
 "nbformat": 4,
 "nbformat_minor": 2
}
