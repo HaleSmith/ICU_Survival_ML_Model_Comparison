{
 "cells": [
  {
   "cell_type": "markdown",
   "metadata": {},
   "source": [
    "# MIMIC-III Sepsis Feature Probe"
   ]
  },
  {
   "cell_type": "markdown",
   "metadata": {},
   "source": [
    "There are many possible features and markers that could indicate the survivability of a patient with suspected sepsis. In this notebook I will probe and visualize the suspected features of import. I will conduct several techniques to select features and trim less significant ones using univariate analysis and other techniques.\n",
    "\n",
    "Note that the dataset in its entirety has been set up locally on a Postgresql database. All machine learning will be done remotely to save time and resources down the road."
   ]
  },
  {
   "cell_type": "code",
   "execution_count": 39,
   "metadata": {
    "collapsed": true
   },
   "outputs": [],
   "source": [
    "from sqlalchemy.ext.automap import automap_base\n",
    "from sqlalchemy.orm import Session\n",
    "from sqlalchemy import create_engine\n",
    "import pandas as pd\n",
    "import numpy as np\n",
    "from sklearn import preprocessing\n",
    "\n",
    "import matplotlib.pyplot as plt\n",
    "import datetime\n",
    "\n",
    "import seaborn as sns\n",
    "seaborn.set(style='ticks')\n",
    "\n",
    "%matplotlib inline"
   ]
  },
  {
   "cell_type": "code",
   "execution_count": 3,
   "metadata": {
    "collapsed": false
   },
   "outputs": [],
   "source": [
    "# Set up SQL Alchemy engine and session\n",
    "Base = automap_base()\n",
    "\n",
    "# Doing basic probes on data locally\n",
    "engine = create_engine(\"postgresql://mimic_user@localhost:5432/mimic\")\n",
    "\n",
    "# Reflect the tables\n",
    "Base.prepare(engine, reflect=True, schema='mimiciii')\n",
    "\n",
    "# mapped classes are now created with names by default\n",
    "# matching that of the table name.\n",
    "Admission = Base.classes.admissions\n",
    "Patient = Base.classes.patients\n",
    "\n",
    "session = Session(engine)"
   ]
  },
  {
   "cell_type": "code",
   "execution_count": 4,
   "metadata": {
    "collapsed": false
   },
   "outputs": [
    {
     "data": {
      "text/html": [
       "<div>\n",
       "<table border=\"1\" class=\"dataframe\">\n",
       "  <thead>\n",
       "    <tr style=\"text-align: right;\">\n",
       "      <th></th>\n",
       "      <th>row_id</th>\n",
       "      <th>subject_id</th>\n",
       "      <th>hadm_id</th>\n",
       "      <th>admittime</th>\n",
       "      <th>dischtime</th>\n",
       "      <th>deathtime</th>\n",
       "      <th>admission_type</th>\n",
       "      <th>admission_location</th>\n",
       "      <th>discharge_location</th>\n",
       "      <th>insurance</th>\n",
       "      <th>language</th>\n",
       "      <th>religion</th>\n",
       "      <th>marital_status</th>\n",
       "      <th>ethnicity</th>\n",
       "      <th>edregtime</th>\n",
       "      <th>edouttime</th>\n",
       "      <th>diagnosis</th>\n",
       "      <th>hospital_expire_flag</th>\n",
       "      <th>has_chartevents_data</th>\n",
       "    </tr>\n",
       "  </thead>\n",
       "  <tbody>\n",
       "    <tr>\n",
       "      <th>0</th>\n",
       "      <td>458</td>\n",
       "      <td>357</td>\n",
       "      <td>122609</td>\n",
       "      <td>2198-11-01 22:36:00</td>\n",
       "      <td>2198-11-14 14:20:00</td>\n",
       "      <td>None</td>\n",
       "      <td>EMERGENCY</td>\n",
       "      <td>EMERGENCY ROOM ADMIT</td>\n",
       "      <td>REHAB/DISTINCT PART HOSP</td>\n",
       "      <td>Private</td>\n",
       "      <td>ENGL</td>\n",
       "      <td>NOT SPECIFIED</td>\n",
       "      <td>MARRIED</td>\n",
       "      <td>WHITE</td>\n",
       "      <td>2198-11-01 18:01:00</td>\n",
       "      <td>2198-11-01 23:06:00</td>\n",
       "      <td>SEPSIS</td>\n",
       "      <td>0</td>\n",
       "      <td>1</td>\n",
       "    </tr>\n",
       "    <tr>\n",
       "      <th>1</th>\n",
       "      <td>471</td>\n",
       "      <td>366</td>\n",
       "      <td>134462</td>\n",
       "      <td>2164-11-18 20:27:00</td>\n",
       "      <td>2164-11-22 15:18:00</td>\n",
       "      <td>None</td>\n",
       "      <td>EMERGENCY</td>\n",
       "      <td>EMERGENCY ROOM ADMIT</td>\n",
       "      <td>HOME HEALTH CARE</td>\n",
       "      <td>Medicare</td>\n",
       "      <td>ENGL</td>\n",
       "      <td>CATHOLIC</td>\n",
       "      <td>SINGLE</td>\n",
       "      <td>HISPANIC OR LATINO</td>\n",
       "      <td>2164-11-18 10:52:00</td>\n",
       "      <td>2164-11-18 21:31:00</td>\n",
       "      <td>SEPSIS</td>\n",
       "      <td>0</td>\n",
       "      <td>1</td>\n",
       "    </tr>\n",
       "    <tr>\n",
       "      <th>2</th>\n",
       "      <td>96</td>\n",
       "      <td>94</td>\n",
       "      <td>183686</td>\n",
       "      <td>2176-02-25 16:49:00</td>\n",
       "      <td>2176-02-29 17:45:00</td>\n",
       "      <td>None</td>\n",
       "      <td>EMERGENCY</td>\n",
       "      <td>EMERGENCY ROOM ADMIT</td>\n",
       "      <td>HOME HEALTH CARE</td>\n",
       "      <td>Medicare</td>\n",
       "      <td>CANT</td>\n",
       "      <td>NOT SPECIFIED</td>\n",
       "      <td>MARRIED</td>\n",
       "      <td>ASIAN</td>\n",
       "      <td>2176-02-25 10:35:00</td>\n",
       "      <td>2176-02-25 18:14:00</td>\n",
       "      <td>SEPSIS</td>\n",
       "      <td>0</td>\n",
       "      <td>1</td>\n",
       "    </tr>\n",
       "    <tr>\n",
       "      <th>3</th>\n",
       "      <td>20</td>\n",
       "      <td>21</td>\n",
       "      <td>111970</td>\n",
       "      <td>2135-01-30 20:50:00</td>\n",
       "      <td>2135-02-08 02:08:00</td>\n",
       "      <td>2135-02-08 02:08:00</td>\n",
       "      <td>EMERGENCY</td>\n",
       "      <td>EMERGENCY ROOM ADMIT</td>\n",
       "      <td>DEAD/EXPIRED</td>\n",
       "      <td>Medicare</td>\n",
       "      <td>None</td>\n",
       "      <td>JEWISH</td>\n",
       "      <td>MARRIED</td>\n",
       "      <td>WHITE</td>\n",
       "      <td>2135-01-30 18:46:00</td>\n",
       "      <td>2135-01-30 22:05:00</td>\n",
       "      <td>SEPSIS</td>\n",
       "      <td>1</td>\n",
       "      <td>1</td>\n",
       "    </tr>\n",
       "    <tr>\n",
       "      <th>4</th>\n",
       "      <td>448</td>\n",
       "      <td>353</td>\n",
       "      <td>108923</td>\n",
       "      <td>2151-03-28 16:01:00</td>\n",
       "      <td>2151-04-13 16:10:00</td>\n",
       "      <td>None</td>\n",
       "      <td>EMERGENCY</td>\n",
       "      <td>EMERGENCY ROOM ADMIT</td>\n",
       "      <td>HOME</td>\n",
       "      <td>Medicare</td>\n",
       "      <td>PTUN</td>\n",
       "      <td>JEWISH</td>\n",
       "      <td>SINGLE</td>\n",
       "      <td>WHITE</td>\n",
       "      <td>2151-03-28 13:02:00</td>\n",
       "      <td>2151-03-28 17:46:00</td>\n",
       "      <td>SEPSIS</td>\n",
       "      <td>0</td>\n",
       "      <td>1</td>\n",
       "    </tr>\n",
       "  </tbody>\n",
       "</table>\n",
       "</div>"
      ],
      "text/plain": [
       "   row_id  subject_id  hadm_id           admittime           dischtime  \\\n",
       "0     458         357   122609 2198-11-01 22:36:00 2198-11-14 14:20:00   \n",
       "1     471         366   134462 2164-11-18 20:27:00 2164-11-22 15:18:00   \n",
       "2      96          94   183686 2176-02-25 16:49:00 2176-02-29 17:45:00   \n",
       "3      20          21   111970 2135-01-30 20:50:00 2135-02-08 02:08:00   \n",
       "4     448         353   108923 2151-03-28 16:01:00 2151-04-13 16:10:00   \n",
       "\n",
       "             deathtime admission_type    admission_location  \\\n",
       "0                 None      EMERGENCY  EMERGENCY ROOM ADMIT   \n",
       "1                 None      EMERGENCY  EMERGENCY ROOM ADMIT   \n",
       "2                 None      EMERGENCY  EMERGENCY ROOM ADMIT   \n",
       "3  2135-02-08 02:08:00      EMERGENCY  EMERGENCY ROOM ADMIT   \n",
       "4                 None      EMERGENCY  EMERGENCY ROOM ADMIT   \n",
       "\n",
       "         discharge_location insurance language       religion marital_status  \\\n",
       "0  REHAB/DISTINCT PART HOSP   Private     ENGL  NOT SPECIFIED        MARRIED   \n",
       "1          HOME HEALTH CARE  Medicare     ENGL       CATHOLIC         SINGLE   \n",
       "2          HOME HEALTH CARE  Medicare     CANT  NOT SPECIFIED        MARRIED   \n",
       "3              DEAD/EXPIRED  Medicare     None         JEWISH        MARRIED   \n",
       "4                      HOME  Medicare     PTUN         JEWISH         SINGLE   \n",
       "\n",
       "            ethnicity           edregtime           edouttime diagnosis  \\\n",
       "0               WHITE 2198-11-01 18:01:00 2198-11-01 23:06:00    SEPSIS   \n",
       "1  HISPANIC OR LATINO 2164-11-18 10:52:00 2164-11-18 21:31:00    SEPSIS   \n",
       "2               ASIAN 2176-02-25 10:35:00 2176-02-25 18:14:00    SEPSIS   \n",
       "3               WHITE 2135-01-30 18:46:00 2135-01-30 22:05:00    SEPSIS   \n",
       "4               WHITE 2151-03-28 13:02:00 2151-03-28 17:46:00    SEPSIS   \n",
       "\n",
       "   hospital_expire_flag  has_chartevents_data  \n",
       "0                     0                     1  \n",
       "1                     0                     1  \n",
       "2                     0                     1  \n",
       "3                     1                     1  \n",
       "4                     0                     1  "
      ]
     },
     "execution_count": 4,
     "metadata": {},
     "output_type": "execute_result"
    }
   ],
   "source": [
    "# session.query(User.name.label('name_label')).all()\n",
    "# admission_query = session.query(Admission)\n",
    "admission_query = session.query(Admission).filter_by(diagnosis='SEPSIS')\n",
    "#  User.query.filter_by(username='peter').first()\n",
    "df = pd.read_sql(admission_query.statement, admission_query.session.bind)\n",
    "\n",
    "df.head()\n",
    "# admission_type, hospital_expire_flag"
   ]
  },
  {
   "cell_type": "code",
   "execution_count": 5,
   "metadata": {
    "collapsed": true
   },
   "outputs": [],
   "source": [
    "def period(row, period):\n",
    "    \n",
    "    if row['deathtime'] == None:\n",
    "        return 0\n",
    "    elif row['deathtime'] - row['admittime'] > period:\n",
    "        return 0\n",
    "    else:\n",
    "        return 1\n",
    "    row['admittime']"
   ]
  },
  {
   "cell_type": "code",
   "execution_count": 6,
   "metadata": {
    "collapsed": false
   },
   "outputs": [],
   "source": [
    "df['death_period'] = df.apply (lambda row: period (row, pd.Timedelta('30 days')),axis=1)"
   ]
  },
  {
   "cell_type": "code",
   "execution_count": 7,
   "metadata": {
    "collapsed": false
   },
   "outputs": [],
   "source": [
    "adm_col = ['subject_id', 'hadm_id', 'admittime', 'admission_type', 'insurance', 'ethnicity', 'death_period']\n",
    "admissions = df[adm_col]"
   ]
  },
  {
   "cell_type": "code",
   "execution_count": 8,
   "metadata": {
    "collapsed": false
   },
   "outputs": [],
   "source": [
    "# Obtain patient information and trim unnecessary information\n",
    "patient_query = session.query(Patient)\n",
    "patients = pd.read_sql(patient_query.statement, patient_query.session.bind)\n",
    "patients = patients[['subject_id', 'gender', 'dob']]"
   ]
  },
  {
   "cell_type": "code",
   "execution_count": 9,
   "metadata": {
    "collapsed": false
   },
   "outputs": [],
   "source": [
    "# Join patients and admission dataframes to obtain gender and age of patient\n",
    "patient_info = admissions.join(patients.set_index('subject_id'), on='subject_id')"
   ]
  },
  {
   "cell_type": "code",
   "execution_count": 10,
   "metadata": {
    "collapsed": false
   },
   "outputs": [],
   "source": [
    "def age(row):\n",
    "    possible_age = int((row['admittime'] - row['dob'])/pd.Timedelta('365 days'))\n",
    "    # For those holder than 89, their ages have been removed and set to 300 years prior to admission.     \n",
    "    if possible_age < 0:\n",
    "        # 91.4 is the median age for those with removed ages. This is what we will set all ages to that are older than 89       \n",
    "        possible_age = 91\n",
    "    return possible_age"
   ]
  },
  {
   "cell_type": "code",
   "execution_count": 11,
   "metadata": {
    "collapsed": false
   },
   "outputs": [],
   "source": [
    "patient_info['age'] = patient_info.apply (lambda row: age (row),axis=1)"
   ]
  },
  {
   "cell_type": "code",
   "execution_count": 12,
   "metadata": {
    "collapsed": false
   },
   "outputs": [
    {
     "data": {
      "text/html": [
       "<div>\n",
       "<table border=\"1\" class=\"dataframe\">\n",
       "  <thead>\n",
       "    <tr style=\"text-align: right;\">\n",
       "      <th></th>\n",
       "      <th>subject_id</th>\n",
       "      <th>hadm_id</th>\n",
       "      <th>admittime</th>\n",
       "      <th>admission_type</th>\n",
       "      <th>insurance</th>\n",
       "      <th>ethnicity</th>\n",
       "      <th>death_period</th>\n",
       "      <th>gender</th>\n",
       "      <th>dob</th>\n",
       "      <th>age</th>\n",
       "    </tr>\n",
       "  </thead>\n",
       "  <tbody>\n",
       "    <tr>\n",
       "      <th>0</th>\n",
       "      <td>357</td>\n",
       "      <td>122609</td>\n",
       "      <td>2198-11-01 22:36:00</td>\n",
       "      <td>EMERGENCY</td>\n",
       "      <td>Private</td>\n",
       "      <td>WHITE</td>\n",
       "      <td>0</td>\n",
       "      <td>M</td>\n",
       "      <td>2135-03-22</td>\n",
       "      <td>63</td>\n",
       "    </tr>\n",
       "    <tr>\n",
       "      <th>1</th>\n",
       "      <td>366</td>\n",
       "      <td>134462</td>\n",
       "      <td>2164-11-18 20:27:00</td>\n",
       "      <td>EMERGENCY</td>\n",
       "      <td>Medicare</td>\n",
       "      <td>HISPANIC OR LATINO</td>\n",
       "      <td>0</td>\n",
       "      <td>M</td>\n",
       "      <td>2112-05-22</td>\n",
       "      <td>52</td>\n",
       "    </tr>\n",
       "    <tr>\n",
       "      <th>2</th>\n",
       "      <td>94</td>\n",
       "      <td>183686</td>\n",
       "      <td>2176-02-25 16:49:00</td>\n",
       "      <td>EMERGENCY</td>\n",
       "      <td>Medicare</td>\n",
       "      <td>ASIAN</td>\n",
       "      <td>0</td>\n",
       "      <td>M</td>\n",
       "      <td>2101-09-20</td>\n",
       "      <td>74</td>\n",
       "    </tr>\n",
       "    <tr>\n",
       "      <th>3</th>\n",
       "      <td>21</td>\n",
       "      <td>111970</td>\n",
       "      <td>2135-01-30 20:50:00</td>\n",
       "      <td>EMERGENCY</td>\n",
       "      <td>Medicare</td>\n",
       "      <td>WHITE</td>\n",
       "      <td>1</td>\n",
       "      <td>M</td>\n",
       "      <td>2047-04-04</td>\n",
       "      <td>87</td>\n",
       "    </tr>\n",
       "    <tr>\n",
       "      <th>4</th>\n",
       "      <td>353</td>\n",
       "      <td>108923</td>\n",
       "      <td>2151-03-28 16:01:00</td>\n",
       "      <td>EMERGENCY</td>\n",
       "      <td>Medicare</td>\n",
       "      <td>WHITE</td>\n",
       "      <td>0</td>\n",
       "      <td>M</td>\n",
       "      <td>2089-07-23</td>\n",
       "      <td>61</td>\n",
       "    </tr>\n",
       "  </tbody>\n",
       "</table>\n",
       "</div>"
      ],
      "text/plain": [
       "   subject_id  hadm_id           admittime admission_type insurance  \\\n",
       "0         357   122609 2198-11-01 22:36:00      EMERGENCY   Private   \n",
       "1         366   134462 2164-11-18 20:27:00      EMERGENCY  Medicare   \n",
       "2          94   183686 2176-02-25 16:49:00      EMERGENCY  Medicare   \n",
       "3          21   111970 2135-01-30 20:50:00      EMERGENCY  Medicare   \n",
       "4         353   108923 2151-03-28 16:01:00      EMERGENCY  Medicare   \n",
       "\n",
       "            ethnicity  death_period gender        dob  age  \n",
       "0               WHITE             0      M 2135-03-22   63  \n",
       "1  HISPANIC OR LATINO             0      M 2112-05-22   52  \n",
       "2               ASIAN             0      M 2101-09-20   74  \n",
       "3               WHITE             1      M 2047-04-04   87  \n",
       "4               WHITE             0      M 2089-07-23   61  "
      ]
     },
     "execution_count": 12,
     "metadata": {},
     "output_type": "execute_result"
    }
   ],
   "source": [
    "patient_info.head()"
   ]
  },
  {
   "cell_type": "markdown",
   "metadata": {},
   "source": [
    "## Analyzing the Importance of Basic Patient Information"
   ]
  },
  {
   "cell_type": "markdown",
   "metadata": {},
   "source": [
    "The admission table has been trimmed and a period of importance for mortality computed. The patient information table has been trimmed and joined to the modified admission table. It is now possible to look into several different potentially useful details regarding patient mortality."
   ]
  },
  {
   "cell_type": "code",
   "execution_count": 13,
   "metadata": {
    "collapsed": false
   },
   "outputs": [
    {
     "data": {
      "text/html": [
       "<div>\n",
       "<table border=\"1\" class=\"dataframe\">\n",
       "  <thead>\n",
       "    <tr style=\"text-align: right;\">\n",
       "      <th></th>\n",
       "      <th>subject_id</th>\n",
       "      <th>hadm_id</th>\n",
       "      <th>death_period</th>\n",
       "      <th>age</th>\n",
       "    </tr>\n",
       "  </thead>\n",
       "  <tbody>\n",
       "    <tr>\n",
       "      <th>count</th>\n",
       "      <td>1184.000000</td>\n",
       "      <td>1184.000000</td>\n",
       "      <td>1184.000000</td>\n",
       "      <td>1184.000000</td>\n",
       "    </tr>\n",
       "    <tr>\n",
       "      <th>mean</th>\n",
       "      <td>32912.771115</td>\n",
       "      <td>149545.354730</td>\n",
       "      <td>0.212838</td>\n",
       "      <td>66.583615</td>\n",
       "    </tr>\n",
       "    <tr>\n",
       "      <th>std</th>\n",
       "      <td>28172.426424</td>\n",
       "      <td>29131.331324</td>\n",
       "      <td>0.409487</td>\n",
       "      <td>16.538276</td>\n",
       "    </tr>\n",
       "    <tr>\n",
       "      <th>min</th>\n",
       "      <td>21.000000</td>\n",
       "      <td>100262.000000</td>\n",
       "      <td>0.000000</td>\n",
       "      <td>0.000000</td>\n",
       "    </tr>\n",
       "    <tr>\n",
       "      <th>25%</th>\n",
       "      <td>10827.500000</td>\n",
       "      <td>123816.000000</td>\n",
       "      <td>0.000000</td>\n",
       "      <td>56.000000</td>\n",
       "    </tr>\n",
       "    <tr>\n",
       "      <th>50%</th>\n",
       "      <td>23820.500000</td>\n",
       "      <td>149640.500000</td>\n",
       "      <td>0.000000</td>\n",
       "      <td>68.000000</td>\n",
       "    </tr>\n",
       "    <tr>\n",
       "      <th>75%</th>\n",
       "      <td>50275.500000</td>\n",
       "      <td>175462.000000</td>\n",
       "      <td>0.000000</td>\n",
       "      <td>80.000000</td>\n",
       "    </tr>\n",
       "    <tr>\n",
       "      <th>max</th>\n",
       "      <td>99973.000000</td>\n",
       "      <td>199880.000000</td>\n",
       "      <td>1.000000</td>\n",
       "      <td>91.000000</td>\n",
       "    </tr>\n",
       "  </tbody>\n",
       "</table>\n",
       "</div>"
      ],
      "text/plain": [
       "         subject_id        hadm_id  death_period          age\n",
       "count   1184.000000    1184.000000   1184.000000  1184.000000\n",
       "mean   32912.771115  149545.354730      0.212838    66.583615\n",
       "std    28172.426424   29131.331324      0.409487    16.538276\n",
       "min       21.000000  100262.000000      0.000000     0.000000\n",
       "25%    10827.500000  123816.000000      0.000000    56.000000\n",
       "50%    23820.500000  149640.500000      0.000000    68.000000\n",
       "75%    50275.500000  175462.000000      0.000000    80.000000\n",
       "max    99973.000000  199880.000000      1.000000    91.000000"
      ]
     },
     "execution_count": 13,
     "metadata": {},
     "output_type": "execute_result"
    }
   ],
   "source": [
    "patient_info.describe()"
   ]
  },
  {
   "cell_type": "code",
   "execution_count": 14,
   "metadata": {
    "collapsed": false
   },
   "outputs": [
    {
     "name": "stdout",
     "output_type": "stream",
     "text": [
      "(932, 10)\n",
      "(252, 10)\n"
     ]
    }
   ],
   "source": [
    "pos = patient_info[patient_info['death_period'] == 0]\n",
    "neg = patient_info[patient_info['death_period'] == 1]\n",
    "print pos.shape\n",
    "print neg.shape"
   ]
  },
  {
   "cell_type": "code",
   "execution_count": 15,
   "metadata": {
    "collapsed": false
   },
   "outputs": [
    {
     "data": {
      "image/png": "[encoded data removed]",
      "text/plain": [
       "<matplotlib.figure.Figure at 0x1051c6f50>"
      ]
     },
     "metadata": {},
     "output_type": "display_data"
    }
   ],
   "source": [
    "ax = patient_info[['age']].plot(kind='hist', title =\"Age Distribution\", legend=True, grid=True, bins=30, color='orange', alpha=0.6)"
   ]
  },
  {
   "cell_type": "markdown",
   "metadata": {},
   "source": [
    "### Data Overview\n",
    "A trend can be seen in the age of patients admitted with suspected sepsis. As age increases, the risk of sepsis also increases somewhat linearly. It is important to note that the large number of patients at 92 years old is due to a HIPAA compliency that removes exact ages of those older than 89. The median value is approximately 92 years of age, hence the large number in that bucket.\n",
    "\n",
    "The mean age is ~67 years old with a standard deviation of ~17 years. This is another clear indication that sepsis is particularly relevant to those older than 56 years of age. 75% of the cases affect patients older than 56 years old.\n",
    "\n",
    "#### Mortality \n",
    "There are a total of 1184 patients admitted with suspected sepsis. Of those admitted, 932 survived >30 days in the ICU. 256 did not survive 30 days after admittance. Therefore there is a 21% mortality rate of those admitted with suspected sepsis. Next let us break this down by age."
   ]
  },
  {
   "cell_type": "code",
   "execution_count": 16,
   "metadata": {
    "collapsed": false
   },
   "outputs": [
    {
     "data": {
      "text/plain": [
       "<matplotlib.legend.Legend at 0x10a571cd0>"
      ]
     },
     "execution_count": 16,
     "metadata": {},
     "output_type": "execute_result"
    },
    {
     "data": {
      "image/png": "[encoded data removed]",
      "text/plain": [
       "<matplotlib.figure.Figure at 0x10a820490>"
      ]
     },
     "metadata": {},
     "output_type": "display_data"
    }
   ],
   "source": [
    "_ = plt.hist([pos['age'],neg['age']], bins=30, alpha=0.9, normed=True, label=['Survived','Deceased'], color=['cornflowerblue','orangered'])\n",
    "\n",
    "plt.title('Death and Age')\n",
    "plt.xlabel('Years of Age')\n",
    "plt.ylabel('Ratio')\n",
    "plt.legend(loc='upper right')"
   ]
  },
  {
   "cell_type": "markdown",
   "metadata": {},
   "source": [
    "#### Age and Survivability\n",
    "While there is no clear marker, around 50 years of age a switch from primarily surviving a septic condition with a probability >0.75 to primarily succuming to the condition. This, visually, suggests that age is particularly important in the survivaibility. There are likely other factors that are strongly correlated to age however."
   ]
  },
  {
   "cell_type": "markdown",
   "metadata": {
    "collapsed": true
   },
   "source": [
    "### Gender and Survivability"
   ]
  },
  {
   "cell_type": "code",
   "execution_count": 56,
   "metadata": {
    "collapsed": false
   },
   "outputs": [
    {
     "name": "stdout",
     "output_type": "stream",
     "text": [
      "Male Mortality: 0.29\n",
      "Female Mortality: 0.247685185185\n"
     ]
    },
    {
     "data": {
      "image/png": "[encoded data removed]",
      "text/plain": [
       "<matplotlib.figure.Figure at 0x10e48e490>"
      ]
     },
     "metadata": {},
     "output_type": "display_data"
    }
   ],
   "source": [
    "sns.countplot(x=\"gender\", hue=\"death_period\", data=patient_info)\n",
    "alive = pos.gender.value_counts()\n",
    "dead = neg.gender.value_counts()\n",
    "print \"Male Mortality: {}\".format(dead.M/float(alive.M))\n",
    "print \"Female Mortality: {}\".format(dead.F/float(alive.F))"
   ]
  },
  {
   "cell_type": "markdown",
   "metadata": {},
   "source": [
    "Gender does not appear to play a significant role on the survivability of sepsis, however, in conjunction with another feature it may add useful information. Male respitory rate may be lower than female respitory rate and may help shift the importance in a machin"
   ]
  }
 ],
 "metadata": {
  "kernelspec": {
   "display_name": "Python 2",
   "language": "python",
   "name": "python2"
  },
  "language_info": {
   "codemirror_mode": {
    "name": "ipython",
    "version": 2
   },
   "file_extension": ".py",
   "mimetype": "text/x-python",
   "name": "python",
   "nbconvert_exporter": "python",
   "pygments_lexer": "ipython2",
   "version": "2.7.13"
  }
 },
 "nbformat": 4,
 "nbformat_minor": 2
}
