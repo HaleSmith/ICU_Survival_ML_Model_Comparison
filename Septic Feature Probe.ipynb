{
 "cells": [
  {
   "cell_type": "markdown",
   "metadata": {},
   "source": [
    "# MIMIC-III Sepsis Feature Probe"
   ]
  },
  {
   "cell_type": "markdown",
   "metadata": {},
   "source": [
    "There are many possible features and markers that could indicate the survivability of a patient with suspected sepsis. In this notebook I will probe and visualize the suspected features of import. I will conduct several techniques to select features and trim less significant ones using univariate analysis and other techniques.\n",
    "\n",
    "Note that the dataset in its entirety has been set up locally on a Postgresql database. All machine learning will be done remotely to save time and resources down the road."
   ]
  },
  {
   "cell_type": "code",
   "execution_count": 39,
   "metadata": {
    "collapsed": true
   },
   "outputs": [],
   "source": [
    "from sqlalchemy.ext.automap import automap_base\n",
    "from sqlalchemy.orm import Session\n",
    "from sqlalchemy import create_engine\n",
    "import pandas as pd\n",
    "import numpy as np\n",
    "from sklearn import preprocessing\n",
    "\n",
    "import matplotlib.pyplot as plt\n",
    "import datetime\n",
    "\n",
    "import seaborn as sns\n",
    "seaborn.set(style='ticks')\n",
    "\n",
    "%matplotlib inline"
   ]
  },
  {
   "cell_type": "code",
   "execution_count": 75,
   "metadata": {
    "collapsed": false
   },
   "outputs": [],
   "source": [
    "# Set up SQL Alchemy engine and session\n",
    "Base = automap_base()\n",
    "\n",
    "# Doing basic probes on data locally\n",
    "engine = create_engine(\"postgresql://mimic_user@localhost:5432/mimic\")\n",
    "\n",
    "# Reflect the tables\n",
    "Base.prepare(engine, reflect=True, schema='mimiciii')\n",
    "\n",
    "# mapped classes are now created with names by default\n",
    "# matching that of the table name.\n",
    "Admission = Base.classes.admissions\n",
    "Patient = Base.classes.patients\n",
    "LabEvent = Base.classes.labevents\n",
    "\n",
    "session = Session(engine)"
   ]
  },
  {
   "cell_type": "code",
   "execution_count": 4,
   "metadata": {
    "collapsed": false
   },
   "outputs": [
    {
     "data": {
      "text/html": [
       "<div>\n",
       "<table border=\"1\" class=\"dataframe\">\n",
       "  <thead>\n",
       "    <tr style=\"text-align: right;\">\n",
       "      <th></th>\n",
       "      <th>row_id</th>\n",
       "      <th>subject_id</th>\n",
       "      <th>hadm_id</th>\n",
       "      <th>admittime</th>\n",
       "      <th>dischtime</th>\n",
       "      <th>deathtime</th>\n",
       "      <th>admission_type</th>\n",
       "      <th>admission_location</th>\n",
       "      <th>discharge_location</th>\n",
       "      <th>insurance</th>\n",
       "      <th>language</th>\n",
       "      <th>religion</th>\n",
       "      <th>marital_status</th>\n",
       "      <th>ethnicity</th>\n",
       "      <th>edregtime</th>\n",
       "      <th>edouttime</th>\n",
       "      <th>diagnosis</th>\n",
       "      <th>hospital_expire_flag</th>\n",
       "      <th>has_chartevents_data</th>\n",
       "    </tr>\n",
       "  </thead>\n",
       "  <tbody>\n",
       "    <tr>\n",
       "      <th>0</th>\n",
       "      <td>458</td>\n",
       "      <td>357</td>\n",
       "      <td>122609</td>\n",
       "      <td>2198-11-01 22:36:00</td>\n",
       "      <td>2198-11-14 14:20:00</td>\n",
       "      <td>None</td>\n",
       "      <td>EMERGENCY</td>\n",
       "      <td>EMERGENCY ROOM ADMIT</td>\n",
       "      <td>REHAB/DISTINCT PART HOSP</td>\n",
       "      <td>Private</td>\n",
       "      <td>ENGL</td>\n",
       "      <td>NOT SPECIFIED</td>\n",
       "      <td>MARRIED</td>\n",
       "      <td>WHITE</td>\n",
       "      <td>2198-11-01 18:01:00</td>\n",
       "      <td>2198-11-01 23:06:00</td>\n",
       "      <td>SEPSIS</td>\n",
       "      <td>0</td>\n",
       "      <td>1</td>\n",
       "    </tr>\n",
       "    <tr>\n",
       "      <th>1</th>\n",
       "      <td>471</td>\n",
       "      <td>366</td>\n",
       "      <td>134462</td>\n",
       "      <td>2164-11-18 20:27:00</td>\n",
       "      <td>2164-11-22 15:18:00</td>\n",
       "      <td>None</td>\n",
       "      <td>EMERGENCY</td>\n",
       "      <td>EMERGENCY ROOM ADMIT</td>\n",
       "      <td>HOME HEALTH CARE</td>\n",
       "      <td>Medicare</td>\n",
       "      <td>ENGL</td>\n",
       "      <td>CATHOLIC</td>\n",
       "      <td>SINGLE</td>\n",
       "      <td>HISPANIC OR LATINO</td>\n",
       "      <td>2164-11-18 10:52:00</td>\n",
       "      <td>2164-11-18 21:31:00</td>\n",
       "      <td>SEPSIS</td>\n",
       "      <td>0</td>\n",
       "      <td>1</td>\n",
       "    </tr>\n",
       "    <tr>\n",
       "      <th>2</th>\n",
       "      <td>96</td>\n",
       "      <td>94</td>\n",
       "      <td>183686</td>\n",
       "      <td>2176-02-25 16:49:00</td>\n",
       "      <td>2176-02-29 17:45:00</td>\n",
       "      <td>None</td>\n",
       "      <td>EMERGENCY</td>\n",
       "      <td>EMERGENCY ROOM ADMIT</td>\n",
       "      <td>HOME HEALTH CARE</td>\n",
       "      <td>Medicare</td>\n",
       "      <td>CANT</td>\n",
       "      <td>NOT SPECIFIED</td>\n",
       "      <td>MARRIED</td>\n",
       "      <td>ASIAN</td>\n",
       "      <td>2176-02-25 10:35:00</td>\n",
       "      <td>2176-02-25 18:14:00</td>\n",
       "      <td>SEPSIS</td>\n",
       "      <td>0</td>\n",
       "      <td>1</td>\n",
       "    </tr>\n",
       "    <tr>\n",
       "      <th>3</th>\n",
       "      <td>20</td>\n",
       "      <td>21</td>\n",
       "      <td>111970</td>\n",
       "      <td>2135-01-30 20:50:00</td>\n",
       "      <td>2135-02-08 02:08:00</td>\n",
       "      <td>2135-02-08 02:08:00</td>\n",
       "      <td>EMERGENCY</td>\n",
       "      <td>EMERGENCY ROOM ADMIT</td>\n",
       "      <td>DEAD/EXPIRED</td>\n",
       "      <td>Medicare</td>\n",
       "      <td>None</td>\n",
       "      <td>JEWISH</td>\n",
       "      <td>MARRIED</td>\n",
       "      <td>WHITE</td>\n",
       "      <td>2135-01-30 18:46:00</td>\n",
       "      <td>2135-01-30 22:05:00</td>\n",
       "      <td>SEPSIS</td>\n",
       "      <td>1</td>\n",
       "      <td>1</td>\n",
       "    </tr>\n",
       "    <tr>\n",
       "      <th>4</th>\n",
       "      <td>448</td>\n",
       "      <td>353</td>\n",
       "      <td>108923</td>\n",
       "      <td>2151-03-28 16:01:00</td>\n",
       "      <td>2151-04-13 16:10:00</td>\n",
       "      <td>None</td>\n",
       "      <td>EMERGENCY</td>\n",
       "      <td>EMERGENCY ROOM ADMIT</td>\n",
       "      <td>HOME</td>\n",
       "      <td>Medicare</td>\n",
       "      <td>PTUN</td>\n",
       "      <td>JEWISH</td>\n",
       "      <td>SINGLE</td>\n",
       "      <td>WHITE</td>\n",
       "      <td>2151-03-28 13:02:00</td>\n",
       "      <td>2151-03-28 17:46:00</td>\n",
       "      <td>SEPSIS</td>\n",
       "      <td>0</td>\n",
       "      <td>1</td>\n",
       "    </tr>\n",
       "  </tbody>\n",
       "</table>\n",
       "</div>"
      ],
      "text/plain": [
       "   row_id  subject_id  hadm_id           admittime           dischtime  \\\n",
       "0     458         357   122609 2198-11-01 22:36:00 2198-11-14 14:20:00   \n",
       "1     471         366   134462 2164-11-18 20:27:00 2164-11-22 15:18:00   \n",
       "2      96          94   183686 2176-02-25 16:49:00 2176-02-29 17:45:00   \n",
       "3      20          21   111970 2135-01-30 20:50:00 2135-02-08 02:08:00   \n",
       "4     448         353   108923 2151-03-28 16:01:00 2151-04-13 16:10:00   \n",
       "\n",
       "             deathtime admission_type    admission_location  \\\n",
       "0                 None      EMERGENCY  EMERGENCY ROOM ADMIT   \n",
       "1                 None      EMERGENCY  EMERGENCY ROOM ADMIT   \n",
       "2                 None      EMERGENCY  EMERGENCY ROOM ADMIT   \n",
       "3  2135-02-08 02:08:00      EMERGENCY  EMERGENCY ROOM ADMIT   \n",
       "4                 None      EMERGENCY  EMERGENCY ROOM ADMIT   \n",
       "\n",
       "         discharge_location insurance language       religion marital_status  \\\n",
       "0  REHAB/DISTINCT PART HOSP   Private     ENGL  NOT SPECIFIED        MARRIED   \n",
       "1          HOME HEALTH CARE  Medicare     ENGL       CATHOLIC         SINGLE   \n",
       "2          HOME HEALTH CARE  Medicare     CANT  NOT SPECIFIED        MARRIED   \n",
       "3              DEAD/EXPIRED  Medicare     None         JEWISH        MARRIED   \n",
       "4                      HOME  Medicare     PTUN         JEWISH         SINGLE   \n",
       "\n",
       "            ethnicity           edregtime           edouttime diagnosis  \\\n",
       "0               WHITE 2198-11-01 18:01:00 2198-11-01 23:06:00    SEPSIS   \n",
       "1  HISPANIC OR LATINO 2164-11-18 10:52:00 2164-11-18 21:31:00    SEPSIS   \n",
       "2               ASIAN 2176-02-25 10:35:00 2176-02-25 18:14:00    SEPSIS   \n",
       "3               WHITE 2135-01-30 18:46:00 2135-01-30 22:05:00    SEPSIS   \n",
       "4               WHITE 2151-03-28 13:02:00 2151-03-28 17:46:00    SEPSIS   \n",
       "\n",
       "   hospital_expire_flag  has_chartevents_data  \n",
       "0                     0                     1  \n",
       "1                     0                     1  \n",
       "2                     0                     1  \n",
       "3                     1                     1  \n",
       "4                     0                     1  "
      ]
     },
     "execution_count": 4,
     "metadata": {},
     "output_type": "execute_result"
    }
   ],
   "source": [
    "# session.query(User.name.label('name_label')).all()\n",
    "# admission_query = session.query(Admission)\n",
    "admission_query = session.query(Admission).filter_by(diagnosis='SEPSIS')\n",
    "#  User.query.filter_by(username='peter').first()\n",
    "df = pd.read_sql(admission_query.statement, admission_query.session.bind)\n",
    "\n",
    "df.head()\n",
    "# admission_type, hospital_expire_flag"
   ]
  },
  {
   "cell_type": "code",
   "execution_count": 5,
   "metadata": {
    "collapsed": true
   },
   "outputs": [],
   "source": [
    "def period(row, period):\n",
    "    \n",
    "    if row['deathtime'] == None:\n",
    "        return 0\n",
    "    elif row['deathtime'] - row['admittime'] > period:\n",
    "        return 0\n",
    "    else:\n",
    "        return 1\n",
    "    row['admittime']"
   ]
  },
  {
   "cell_type": "code",
   "execution_count": 6,
   "metadata": {
    "collapsed": false
   },
   "outputs": [],
   "source": [
    "df['death_period'] = df.apply (lambda row: period (row, pd.Timedelta('30 days')),axis=1)"
   ]
  },
  {
   "cell_type": "code",
   "execution_count": 7,
   "metadata": {
    "collapsed": false
   },
   "outputs": [],
   "source": [
    "adm_col = ['subject_id', 'hadm_id', 'admittime', 'admission_type', 'insurance', 'ethnicity', 'death_period']\n",
    "admissions = df[adm_col]"
   ]
  },
  {
   "cell_type": "code",
   "execution_count": 8,
   "metadata": {
    "collapsed": false
   },
   "outputs": [],
   "source": [
    "# Obtain patient information and trim unnecessary information\n",
    "patient_query = session.query(Patient)\n",
    "patients = pd.read_sql(patient_query.statement, patient_query.session.bind)\n",
    "patients = patients[['subject_id', 'gender', 'dob']]"
   ]
  },
  {
   "cell_type": "code",
   "execution_count": 9,
   "metadata": {
    "collapsed": false
   },
   "outputs": [],
   "source": [
    "# Join patients and admission dataframes to obtain gender and age of patient\n",
    "patient_info = admissions.join(patients.set_index('subject_id'), on='subject_id')"
   ]
  },
  {
   "cell_type": "code",
   "execution_count": 10,
   "metadata": {
    "collapsed": false
   },
   "outputs": [],
   "source": [
    "def age(row):\n",
    "    possible_age = int((row['admittime'] - row['dob'])/pd.Timedelta('365 days'))\n",
    "    # For those holder than 89, their ages have been removed and set to 300 years prior to admission.     \n",
    "    if possible_age < 0:\n",
    "        # 91.4 is the median age for those with removed ages. This is what we will set all ages to that are older than 89       \n",
    "        possible_age = 91\n",
    "    return possible_age"
   ]
  },
  {
   "cell_type": "code",
   "execution_count": 11,
   "metadata": {
    "collapsed": false
   },
   "outputs": [],
   "source": [
    "patient_info['age'] = patient_info.apply (lambda row: age (row),axis=1)"
   ]
  },
  {
   "cell_type": "code",
   "execution_count": 12,
   "metadata": {
    "collapsed": false
   },
   "outputs": [
    {
     "data": {
      "text/html": [
       "<div>\n",
       "<table border=\"1\" class=\"dataframe\">\n",
       "  <thead>\n",
       "    <tr style=\"text-align: right;\">\n",
       "      <th></th>\n",
       "      <th>subject_id</th>\n",
       "      <th>hadm_id</th>\n",
       "      <th>admittime</th>\n",
       "      <th>admission_type</th>\n",
       "      <th>insurance</th>\n",
       "      <th>ethnicity</th>\n",
       "      <th>death_period</th>\n",
       "      <th>gender</th>\n",
       "      <th>dob</th>\n",
       "      <th>age</th>\n",
       "    </tr>\n",
       "  </thead>\n",
       "  <tbody>\n",
       "    <tr>\n",
       "      <th>0</th>\n",
       "      <td>357</td>\n",
       "      <td>122609</td>\n",
       "      <td>2198-11-01 22:36:00</td>\n",
       "      <td>EMERGENCY</td>\n",
       "      <td>Private</td>\n",
       "      <td>WHITE</td>\n",
       "      <td>0</td>\n",
       "      <td>M</td>\n",
       "      <td>2135-03-22</td>\n",
       "      <td>63</td>\n",
       "    </tr>\n",
       "    <tr>\n",
       "      <th>1</th>\n",
       "      <td>366</td>\n",
       "      <td>134462</td>\n",
       "      <td>2164-11-18 20:27:00</td>\n",
       "      <td>EMERGENCY</td>\n",
       "      <td>Medicare</td>\n",
       "      <td>HISPANIC OR LATINO</td>\n",
       "      <td>0</td>\n",
       "      <td>M</td>\n",
       "      <td>2112-05-22</td>\n",
       "      <td>52</td>\n",
       "    </tr>\n",
       "    <tr>\n",
       "      <th>2</th>\n",
       "      <td>94</td>\n",
       "      <td>183686</td>\n",
       "      <td>2176-02-25 16:49:00</td>\n",
       "      <td>EMERGENCY</td>\n",
       "      <td>Medicare</td>\n",
       "      <td>ASIAN</td>\n",
       "      <td>0</td>\n",
       "      <td>M</td>\n",
       "      <td>2101-09-20</td>\n",
       "      <td>74</td>\n",
       "    </tr>\n",
       "    <tr>\n",
       "      <th>3</th>\n",
       "      <td>21</td>\n",
       "      <td>111970</td>\n",
       "      <td>2135-01-30 20:50:00</td>\n",
       "      <td>EMERGENCY</td>\n",
       "      <td>Medicare</td>\n",
       "      <td>WHITE</td>\n",
       "      <td>1</td>\n",
       "      <td>M</td>\n",
       "      <td>2047-04-04</td>\n",
       "      <td>87</td>\n",
       "    </tr>\n",
       "    <tr>\n",
       "      <th>4</th>\n",
       "      <td>353</td>\n",
       "      <td>108923</td>\n",
       "      <td>2151-03-28 16:01:00</td>\n",
       "      <td>EMERGENCY</td>\n",
       "      <td>Medicare</td>\n",
       "      <td>WHITE</td>\n",
       "      <td>0</td>\n",
       "      <td>M</td>\n",
       "      <td>2089-07-23</td>\n",
       "      <td>61</td>\n",
       "    </tr>\n",
       "  </tbody>\n",
       "</table>\n",
       "</div>"
      ],
      "text/plain": [
       "   subject_id  hadm_id           admittime admission_type insurance  \\\n",
       "0         357   122609 2198-11-01 22:36:00      EMERGENCY   Private   \n",
       "1         366   134462 2164-11-18 20:27:00      EMERGENCY  Medicare   \n",
       "2          94   183686 2176-02-25 16:49:00      EMERGENCY  Medicare   \n",
       "3          21   111970 2135-01-30 20:50:00      EMERGENCY  Medicare   \n",
       "4         353   108923 2151-03-28 16:01:00      EMERGENCY  Medicare   \n",
       "\n",
       "            ethnicity  death_period gender        dob  age  \n",
       "0               WHITE             0      M 2135-03-22   63  \n",
       "1  HISPANIC OR LATINO             0      M 2112-05-22   52  \n",
       "2               ASIAN             0      M 2101-09-20   74  \n",
       "3               WHITE             1      M 2047-04-04   87  \n",
       "4               WHITE             0      M 2089-07-23   61  "
      ]
     },
     "execution_count": 12,
     "metadata": {},
     "output_type": "execute_result"
    }
   ],
   "source": [
    "patient_info.head()"
   ]
  },
  {
   "cell_type": "markdown",
   "metadata": {},
   "source": [
    "## Analyzing the Importance of Basic Patient Information"
   ]
  },
  {
   "cell_type": "markdown",
   "metadata": {},
   "source": [
    "The admission table has been trimmed and a period of importance for mortality computed. The patient information table has been trimmed and joined to the modified admission table. It is now possible to look into several different potentially useful details regarding patient mortality."
   ]
  },
  {
   "cell_type": "code",
   "execution_count": 13,
   "metadata": {
    "collapsed": false
   },
   "outputs": [
    {
     "data": {
      "text/html": [
       "<div>\n",
       "<table border=\"1\" class=\"dataframe\">\n",
       "  <thead>\n",
       "    <tr style=\"text-align: right;\">\n",
       "      <th></th>\n",
       "      <th>subject_id</th>\n",
       "      <th>hadm_id</th>\n",
       "      <th>death_period</th>\n",
       "      <th>age</th>\n",
       "    </tr>\n",
       "  </thead>\n",
       "  <tbody>\n",
       "    <tr>\n",
       "      <th>count</th>\n",
       "      <td>1184.000000</td>\n",
       "      <td>1184.000000</td>\n",
       "      <td>1184.000000</td>\n",
       "      <td>1184.000000</td>\n",
       "    </tr>\n",
       "    <tr>\n",
       "      <th>mean</th>\n",
       "      <td>32912.771115</td>\n",
       "      <td>149545.354730</td>\n",
       "      <td>0.212838</td>\n",
       "      <td>66.583615</td>\n",
       "    </tr>\n",
       "    <tr>\n",
       "      <th>std</th>\n",
       "      <td>28172.426424</td>\n",
       "      <td>29131.331324</td>\n",
       "      <td>0.409487</td>\n",
       "      <td>16.538276</td>\n",
       "    </tr>\n",
       "    <tr>\n",
       "      <th>min</th>\n",
       "      <td>21.000000</td>\n",
       "      <td>100262.000000</td>\n",
       "      <td>0.000000</td>\n",
       "      <td>0.000000</td>\n",
       "    </tr>\n",
       "    <tr>\n",
       "      <th>25%</th>\n",
       "      <td>10827.500000</td>\n",
       "      <td>123816.000000</td>\n",
       "      <td>0.000000</td>\n",
       "      <td>56.000000</td>\n",
       "    </tr>\n",
       "    <tr>\n",
       "      <th>50%</th>\n",
       "      <td>23820.500000</td>\n",
       "      <td>149640.500000</td>\n",
       "      <td>0.000000</td>\n",
       "      <td>68.000000</td>\n",
       "    </tr>\n",
       "    <tr>\n",
       "      <th>75%</th>\n",
       "      <td>50275.500000</td>\n",
       "      <td>175462.000000</td>\n",
       "      <td>0.000000</td>\n",
       "      <td>80.000000</td>\n",
       "    </tr>\n",
       "    <tr>\n",
       "      <th>max</th>\n",
       "      <td>99973.000000</td>\n",
       "      <td>199880.000000</td>\n",
       "      <td>1.000000</td>\n",
       "      <td>91.000000</td>\n",
       "    </tr>\n",
       "  </tbody>\n",
       "</table>\n",
       "</div>"
      ],
      "text/plain": [
       "         subject_id        hadm_id  death_period          age\n",
       "count   1184.000000    1184.000000   1184.000000  1184.000000\n",
       "mean   32912.771115  149545.354730      0.212838    66.583615\n",
       "std    28172.426424   29131.331324      0.409487    16.538276\n",
       "min       21.000000  100262.000000      0.000000     0.000000\n",
       "25%    10827.500000  123816.000000      0.000000    56.000000\n",
       "50%    23820.500000  149640.500000      0.000000    68.000000\n",
       "75%    50275.500000  175462.000000      0.000000    80.000000\n",
       "max    99973.000000  199880.000000      1.000000    91.000000"
      ]
     },
     "execution_count": 13,
     "metadata": {},
     "output_type": "execute_result"
    }
   ],
   "source": [
    "patient_info.describe()"
   ]
  },
  {
   "cell_type": "code",
   "execution_count": 14,
   "metadata": {
    "collapsed": false
   },
   "outputs": [
    {
     "name": "stdout",
     "output_type": "stream",
     "text": [
      "(932, 10)\n",
      "(252, 10)\n"
     ]
    }
   ],
   "source": [
    "pos = patient_info[patient_info['death_period'] == 0]\n",
    "neg = patient_info[patient_info['death_period'] == 1]\n",
    "print pos.shape\n",
    "print neg.shape"
   ]
  },
  {
   "cell_type": "code",
   "execution_count": 15,
   "metadata": {
    "collapsed": false
   },
   "outputs": [
    {
     "data": {
      "image/png": "[encoded data removed]",
      "text/plain": [
       "<matplotlib.figure.Figure at 0x1051c6f50>"
      ]
     },
     "metadata": {},
     "output_type": "display_data"
    }
   ],
   "source": [
    "ax = patient_info[['age']].plot(kind='hist', title =\"Age Distribution\", legend=True, grid=True, bins=30, color='orange', alpha=0.6)"
   ]
  },
  {
   "cell_type": "markdown",
   "metadata": {},
   "source": [
    "### Data Overview\n",
    "A trend can be seen in the age of patients admitted with suspected sepsis. As age increases, the risk of sepsis also increases somewhat linearly. It is important to note that the large number of patients at 92 years old is due to a HIPAA compliency that removes exact ages of those older than 89. The median value is approximately 92 years of age, hence the large number in that bucket.\n",
    "\n",
    "The mean age is ~67 years old with a standard deviation of ~17 years. This is another clear indication that sepsis is particularly relevant to those older than 56 years of age. 75% of the cases affect patients older than 56 years old.\n",
    "\n",
    "#### Mortality \n",
    "There are a total of 1184 patients admitted with suspected sepsis. Of those admitted, 932 survived >30 days in the ICU. 256 did not survive 30 days after admittance. Therefore there is a 21% mortality rate of those admitted with suspected sepsis. Next let us break this down by age."
   ]
  },
  {
   "cell_type": "code",
   "execution_count": 59,
   "metadata": {
    "collapsed": false
   },
   "outputs": [
    {
     "data": {
      "text/plain": [
       "<matplotlib.legend.Legend at 0x10e6296d0>"
      ]
     },
     "execution_count": 59,
     "metadata": {},
     "output_type": "execute_result"
    },
    {
     "data": {
      "image/png": "[encoded data removed]",
      "text/plain": [
       "<matplotlib.figure.Figure at 0x10e9ecad0>"
      ]
     },
     "metadata": {},
     "output_type": "display_data"
    }
   ],
   "source": [
    "_ = plt.hist([pos['age'],neg['age']], bins=30, alpha=0.9, normed=True, label=['Survived','Deceased'], color=['cornflowerblue','orangered'])\n",
    "\n",
    "plt.title('Death and Age')\n",
    "plt.xlabel('Years of Age')\n",
    "plt.ylabel('Ratio')\n",
    "plt.legend(loc='upper right')"
   ]
  },
  {
   "cell_type": "markdown",
   "metadata": {},
   "source": [
    "#### Age and Survivability\n",
    "While there is no clear marker, around 50 years of age a switch from primarily surviving a septic condition with a probability >0.75 to primarily succuming to the condition. This, visually, suggests that age is particularly important in the survivaibility. There are likely other factors that are strongly correlated to age however."
   ]
  },
  {
   "cell_type": "markdown",
   "metadata": {
    "collapsed": true
   },
   "source": [
    "### Gender and Survivability"
   ]
  },
  {
   "cell_type": "code",
   "execution_count": 56,
   "metadata": {
    "collapsed": false
   },
   "outputs": [
    {
     "name": "stdout",
     "output_type": "stream",
     "text": [
      "Male Mortality: 0.29\n",
      "Female Mortality: 0.247685185185\n"
     ]
    },
    {
     "data": {
      "image/png": "[encoded data removed]",
      "text/plain": [
       "<matplotlib.figure.Figure at 0x10e48e490>"
      ]
     },
     "metadata": {},
     "output_type": "display_data"
    }
   ],
   "source": [
    "ax = plt.axes()\n",
    "sns.countplot(x=\"gender\", hue=\"death_period\", data=patient_info, ax=ax)\n",
    "ax.set_title('Sex and Survivability')\n",
    "alive = pos.gender.value_counts()\n",
    "dead = neg.gender.value_counts()\n",
    "print \"Male Mortality: {}\".format(dead.M/float(alive.M))\n",
    "print \"Female Mortality: {}\".format(dead.F/float(alive.F))"
   ]
  },
  {
   "cell_type": "markdown",
   "metadata": {},
   "source": [
    "Gender does not appear to play a significant role on the survivability of sepsis, however, in conjunction with another feature it may add useful information. Male respitory rate may be lower than female respitory rate and may help shift the importance in a machine learning algorithm."
   ]
  },
  {
   "cell_type": "markdown",
   "metadata": {},
   "source": [
    "### Insurance Type and Survivability"
   ]
  },
  {
   "cell_type": "code",
   "execution_count": 67,
   "metadata": {
    "collapsed": false
   },
   "outputs": [
    {
     "name": "stdout",
     "output_type": "stream",
     "text": [
      "Medicare Mortality: 0.3024\n",
      "Medicaid Mortality: 0.27027027027\n",
      "Private Mortality: 0.169014084507\n"
     ]
    },
    {
     "data": {
      "image/png": "[encoded data removed]",
      "text/plain": [
       "<matplotlib.figure.Figure at 0x10a0f1810>"
      ]
     },
     "metadata": {},
     "output_type": "display_data"
    }
   ],
   "source": [
    "ax = plt.axes()\n",
    "sns.countplot(x=\"insurance\", hue=\"death_period\", data=patient_info, ax=ax)\n",
    "ax.set_title('Insurance and Survivability')\n",
    "\n",
    "alive = pos.insurance.value_counts()\n",
    "dead = neg.insurance.value_counts()\n",
    "print \"Medicare Mortality: {}\".format(dead.Medicare/float(alive.Medicare))\n",
    "print \"Medicaid Mortality: {}\".format(dead.Medicaid/float(alive.Medicaid))\n",
    "print \"Private Mortality: {}\".format(dead.Private/float(alive.Private))\n"
   ]
  },
  {
   "cell_type": "markdown",
   "metadata": {},
   "source": [
    "This breakdown of survivability by insurance type makes sense. Medicare is insurance administered by the US Government and fulfilled by private insurers for individuals 65 years and older. From the previous breakdown by age, we can see that those older than 65 are at an increased risk of succumbing to sepsis. Private insurance holders are likely younger. Therefore the descrepency in survivability is more understandable, 30% mortality rate for Medicare insurance holders and almost half that for private insurance holders at 17%.\n",
    "\n",
    "The real question comes when we look at Medicaid mortality rates which are 27%. Medicaid is provided by the US Government to individuals that reside at or at 133% of the poverty line. What this is indicating is that income also plays a role on the survivability of a septic condition."
   ]
  },
  {
   "cell_type": "code",
   "execution_count": 71,
   "metadata": {
    "collapsed": false
   },
   "outputs": [
    {
     "data": {
      "image/png": "[encoded data removed]",
      "text/plain": [
       "<matplotlib.figure.Figure at 0x10bca1650>"
      ]
     },
     "metadata": {},
     "output_type": "display_data"
    }
   ],
   "source": [
    "sns.violinplot(x=\"insurance\", y=\"age\", hue=\"gender\", data=patient_info, split=True);"
   ]
  },
  {
   "cell_type": "markdown",
   "metadata": {},
   "source": [
    "Here we can see a violin graph with age on the y-axis, insurance type on the x-axis, and Male represented by blue and Female by green. This clariefies the suspicion that Medicare holders are older on average. Medicaid and Private insurance holders appear to be approximately the same age on average. Self pay and government insurance have too few data points to draw any sort of conclusion. Gender also seems relatively balanced except for Medicaid insurance holders. More young men tend to have medicaid insurance than young women."
   ]
  },
  {
   "cell_type": "markdown",
   "metadata": {},
   "source": [
    "## Obtaining Vitals"
   ]
  },
  {
   "cell_type": "markdown",
   "metadata": {},
   "source": [
    "The initial vitals, within 48 hours, will likely be the most useful information for predicting the survivability of a septic condition. Graphing and visualizing this data will allow us to make insights into which features are of higher importance and which are likely irrelevant and can be trimmed from the dataset."
   ]
  },
  {
   "cell_type": "code",
   "execution_count": 208,
   "metadata": {
    "collapsed": true
   },
   "outputs": [],
   "source": [
    "vital_ids = {   \n",
    "                50827: 'respiration', # respiration rate\n",
    "                50912: 'creatinine',  # creatinine levels indicate kidney issues\n",
    "                50813: 'lactate',     # lactate levels indicate shock and cellular anirobic respiration\n",
    "                50889: 'CRP',         # C-reactive protein systemic inflammation\n",
    "                51300: 'WBC',         # White blood cell count indicates systemic reaction to infection\n",
    "                51006: 'BUN',         # Blood Urea Nitrogen indicates kidney issues\n",
    "                51288: 'ESR',         # erythrocyte sedimentation rate another inflammation test\n",
    "                51265: 'platelet',    # decreased platelet counts parallel the severity of infection\n",
    "                50825: 'tempurature', # tempurature is highly indicative of infection and/or immune response\n",
    "                50816: 'oxygen',\n",
    "                51275: 'PT',\n",
    "                51274: 'PTT',\n",
    "                51277: 'RBCDW',       # red blood cell distribution width\n",
    "                51256: 'neutrophils',\n",
    "                50818: 'pco2',\n",
    "                50821: 'po2',\n",
    "                50893: 'calcium',\n",
    "                50931: 'glucose',\n",
    "                51221: 'hematocrit',\n",
    "                51222: 'hemoglobin',\n",
    "                51244: 'lymphocytes'\n",
    "            } "
   ]
  },
  {
   "cell_type": "code",
   "execution_count": 209,
   "metadata": {
    "collapsed": false
   },
   "outputs": [],
   "source": [
    "# Query database labevents for all information related to all hospital admission ids we are interested in \n",
    "# along with all item types we are interested in, defined above\n",
    "patient_hadm_ids = patient_info.hadm_id.tolist()\n",
    "# Beautiful query /sarcasm\n",
    "lab_event_query = session.query(LabEvent).filter(LabEvent.hadm_id.in_(patient_hadm_ids)).filter(LabEvent.itemid.in_(vital_ids.keys()))\n",
    "\n",
    "lab_events = pd.read_sql(lab_event_query.statement, lab_event_query.session.bind).groupby('hadm_id')"
   ]
  },
  {
   "cell_type": "code",
   "execution_count": 210,
   "metadata": {
    "collapsed": false
   },
   "outputs": [],
   "source": [
    "# Prepare joining copy of patient vitals\n",
    "patient_vitals = patient_info[['hadm_id']].copy()\n",
    "for value in vital_ids.values():\n",
    "    patient_vitals[value] = np.nan\n",
    "    \n",
    "patient_vitals = patient_vitals.set_index('hadm_id')"
   ]
  },
  {
   "cell_type": "code",
   "execution_count": 211,
   "metadata": {
    "collapsed": true
   },
   "outputs": [],
   "source": [
    "# Respiration rate value needs to be cleaned. \n",
    "def clean_respiration(value):\n",
    "    return max([int(x) for x in value.split('/') if x.isdigit()])"
   ]
  },
  {
   "cell_type": "code",
   "execution_count": 214,
   "metadata": {
    "collapsed": false
   },
   "outputs": [],
   "source": [
    "# Cycle through data, check for appropriate data within time period, average values and store\n",
    "one_day = pd.Timedelta('1 days')\n",
    "# Each hospital stay, think of it as an individual patient (though technically not true)\n",
    "for hadm_id, group in lab_events:\n",
    "    sub_groups = group.groupby('itemid')\n",
    "    admittance_time = patient_info.loc[patient_info.hadm_id==hadm_id]['admittime'].values[0]\n",
    "    # Each lab item type\n",
    "    for lab_item, sub_group in sub_groups:\n",
    "        day_results = sub_group[((sub_group.charttime - admittance_time) < one_day)]\n",
    "        # Unfortunate special case: If dirty respitory rate value, clean         \n",
    "        if lab_item == 50827:\n",
    "            cleaned_resp = map(clean_respiration, day_results['value'])\n",
    "            mean =  np.mean(cleaned_resp)\n",
    "        else:\n",
    "            mean = day_results['valuenum'].values.mean()\n",
    "        patient_vitals.set_value(hadm_id, vital_ids[lab_item], mean)\n",
    "    "
   ]
  },
  {
   "cell_type": "code",
   "execution_count": 213,
   "metadata": {
    "collapsed": false
   },
   "outputs": [
    {
     "data": {
      "text/plain": [
       "creatinine        8\n",
       "platelet          8\n",
       "pco2            412\n",
       "PT               72\n",
       "WBC            1172\n",
       "po2             412\n",
       "CRP             993\n",
       "PTT              68\n",
       "respiration     951\n",
       "lymphocytes      58\n",
       "RBCDW            10\n",
       "calcium          23\n",
       "neutrophils      58\n",
       "glucose           9\n",
       "hematocrit        9\n",
       "hemoglobin       10\n",
       "tempurature     634\n",
       "ESR            1120\n",
       "oxygen          836\n",
       "lactate          86\n",
       "BUN               8\n",
       "dtype: int64"
      ]
     },
     "execution_count": 213,
     "metadata": {},
     "output_type": "execute_result"
    }
   ],
   "source": [
    "# Check which features are not worth considering due to lack of information\n",
    "patient_vitals.isnull().sum()"
   ]
  },
  {
   "cell_type": "markdown",
   "metadata": {},
   "source": [
    "I made the near-sighted assumption that most patients would have these vitals taken within the first day. It is possible some of these measurements, such as tempurature, are recorded elsewhere in the database. For data within the labevents table though, I will need to trim some of this data due to the lack of values. The few instances with no information will be filled in with the mean values. For the ML phase, I may need to trim some patients out that have no recorded values or died within the first day of entering the ICU."
   ]
  },
  {
   "cell_type": "code",
   "execution_count": 216,
   "metadata": {
    "collapsed": true
   },
   "outputs": [],
   "source": [
    "# Vitals that will be kept. The rest dropped due to lack of data\n",
    "keep_vitals = ['creatinine', 'platelet', 'PT', 'PTT', 'lymphocytes', 'RBCDW', 'calcium', 'neutrophils', 'glucose', 'hematocrit', 'hemoglobin', 'lactate', 'BUN']\n",
    "patient_vitals_fixed = patient_vitals[keep_vitals]"
   ]
  },
  {
   "cell_type": "code",
   "execution_count": 217,
   "metadata": {
    "collapsed": false
   },
   "outputs": [
    {
     "name": "stdout",
     "output_type": "stream",
     "text": [
      "         creatinine    platelet         PT        PTT  lymphocytes      RBCDW  \\\n",
      "hadm_id                                                                         \n",
      "122609     1.100000   77.800000  29.875000  15.050000    15.466667  15.160000   \n",
      "134462     1.466667  199.000000  29.150000  13.300000     1.500000  16.350000   \n",
      "183686     0.675000  151.250000  31.000000  12.000000     9.266667  13.825000   \n",
      "111970     4.366667  364.666667  37.600000  18.600000     3.633333  17.100000   \n",
      "108923     7.733333  144.666667  25.133333  13.866667     4.100000  16.100000   \n",
      "131488     6.080000  114.000000  30.475000  18.350000     6.500000  16.000000   \n",
      "148905     1.483333   90.500000  30.387500  17.987500     4.000000  14.880000   \n",
      "113900     1.250000  204.400000  30.450000  13.250000     4.200000  14.180000   \n",
      "171178     1.133333  120.400000  33.000000  14.375000     2.666667  14.660000   \n",
      "100765     1.300000  148.000000  32.700000  15.850000     4.150000  13.333333   \n",
      "107880     0.533333  241.500000  32.425000  13.825000     0.666667  18.950000   \n",
      "128219     0.800000  341.000000  22.800000  13.500000     3.000000  13.900000   \n",
      "191517     1.620000  250.200000  49.150000  15.075000     6.000000  16.320000   \n",
      "168503     0.820000   77.000000  36.350000  18.966667     0.000000  16.620000   \n",
      "108911     2.066667   65.500000  34.300000  15.800000     1.000000  15.550000   \n",
      "170452     4.716667  291.200000  42.033333  14.566667     6.800000  18.060000   \n",
      "172260     0.800000  222.333333  35.500000  14.633333    20.000000  21.866667   \n",
      "155036     0.800000  225.666667  56.442857  14.920000     4.200000  16.825000   \n",
      "100262     4.000000   58.384615  83.650000  22.466667     7.333333  14.469231   \n",
      "155327     2.000000  243.000000  26.500000  16.300000    36.300000  17.242857   \n",
      "104958     1.066667  206.333333  22.850000  12.900000     5.850000  13.666667   \n",
      "141626     5.720000  178.400000  38.162500  43.200000    12.000000  18.040000   \n",
      "105452     0.940000  377.333333  24.900000  13.800000     9.250000  16.966667   \n",
      "103873     1.125000  209.666667  33.566667  18.366667     5.450000  17.700000   \n",
      "133648     3.025000  226.000000  32.600000  13.300000    12.450000  15.600000   \n",
      "114791     0.700000  442.500000  47.933333  14.600000     4.000000  14.650000   \n",
      "163526     1.333333  314.166667  51.240000  20.220000     5.000000  15.550000   \n",
      "148771     2.925000  400.666667  29.950000  15.350000     3.933333  16.666667   \n",
      "175586     1.240000  150.000000  48.733333  16.844444    12.000000  15.050000   \n",
      "110021     1.280000  129.750000  38.050000  18.700000     5.525000  20.475000   \n",
      "...             ...         ...        ...        ...          ...        ...   \n",
      "103704     2.450000  400.750000  32.700000  12.900000     8.000000  17.175000   \n",
      "121289     2.700000  323.333333  33.300000  14.500000    11.100000  15.533333   \n",
      "129975     1.325000  167.750000  28.433333  14.366667     6.700000  13.450000   \n",
      "102396     0.683333  211.000000  40.750000  16.100000     6.500000  15.700000   \n",
      "184200     1.400000  487.333333  30.100000  14.400000     4.750000  15.700000   \n",
      "194204     0.880000   91.666667  32.433333  14.600000     9.500000  15.333333   \n",
      "108974     0.450000  136.800000  62.440000  11.280000    10.633333  14.340000   \n",
      "166418     1.966667  122.666667  38.625983  17.768541     8.300000  13.166667   \n",
      "125316    10.100000  156.750000  23.100000  14.400000     9.900000  15.875000   \n",
      "125153     2.650000  430.600000  26.000000  13.200000    11.200000  16.840000   \n",
      "177375     1.425000  158.000000  22.400000  12.600000    16.750000  13.433333   \n",
      "143409     1.550000  259.250000  40.350000  29.850000     3.700000  19.125000   \n",
      "161427     0.600000  133.250000  86.875000  19.300000     9.401034  13.400000   \n",
      "177794     3.211111   92.666667  32.150000  15.000000    22.450000  17.000000   \n",
      "170494     2.900000  272.166667  38.260000  16.716667     4.250000  13.250000   \n",
      "137857     0.980000  200.000000  33.933333  29.075000    13.950000  20.600000   \n",
      "198744     1.875000  138.333333  32.000000  14.600000     6.600000  13.300000   \n",
      "184353     1.075000   41.333333  27.175000  12.325000    22.500000  15.733333   \n",
      "172485     3.366667   35.666667  69.133333  22.666667     9.401034  17.000000   \n",
      "127737     0.700000  159.000000  37.400000  15.940000     2.500000  14.700000   \n",
      "181736     8.300000   96.333333  56.200000  13.000000     6.600000  14.933333   \n",
      "135642     0.666667  239.333333  26.800000  12.700000     2.800000  13.466667   \n",
      "151111     1.225000  147.000000  41.750000  22.000000     6.700000  18.975000   \n",
      "152550     2.133498  219.271462  38.625983  17.768541     9.401034  15.982123   \n",
      "168044     1.425000  444.000000  40.233333  16.933333     2.000000  15.800000   \n",
      "150731     2.357143  275.000000  29.525000  13.800000     7.300000  25.060000   \n",
      "112686     1.800000  317.000000  46.960000  39.960000    11.950000  17.225000   \n",
      "181449     0.975000  162.250000  23.600000  12.650000    16.200000  15.100000   \n",
      "134977     1.000000  533.333333  35.033333  16.500000     2.000000  15.933333   \n",
      "153703     4.357143  127.666667  36.060000  17.540000     1.500000  17.616667   \n",
      "\n",
      "          calcium  neutrophils     glucose  hematocrit  hemoglobin   lactate  \\\n",
      "hadm_id                                                                        \n",
      "122609   7.333333    77.133333  175.857143   26.340000    8.420000  1.500000   \n",
      "134462   7.900000    86.500000  154.000000   41.600000   14.350000  3.550000   \n",
      "183686   8.020000    83.233333  148.200000   39.240000   13.750000  1.800000   \n",
      "111970   7.950000    91.833333  185.333333   31.233333    9.366667  1.966667   \n",
      "108923   8.750000    93.500000   89.500000   29.925000   10.166667  3.050000   \n",
      "131488   8.925000    78.000000  137.600000   33.025000   11.300000  2.525000   \n",
      "148905   8.525000    71.500000  121.000000   32.066667   11.233333  5.911111   \n",
      "113900   7.900000    89.650000  109.500000   25.050000    8.720000  2.650000   \n",
      "171178   7.100000    88.000000  102.166667   26.883333    8.720000  1.933333   \n",
      "100765   6.850000    93.450000   89.000000   25.800000    8.466667  2.300000   \n",
      "107880   7.900000    86.000000  100.857143   29.250000    9.583333  3.022222   \n",
      "128219   7.953955    83.000000  193.000000   34.200000   11.700000  3.900000   \n",
      "191517   7.800000    63.000000  198.750000   32.380000   11.420000  3.360000   \n",
      "168503   7.533333    94.000000  123.833333   29.050000    9.480000  2.175000   \n",
      "108911   8.333333    82.000000   81.666667   38.750000   12.600000  3.000000   \n",
      "170452   8.383333    90.100000  266.166667   28.228571    9.240000  2.228571   \n",
      "172260   6.680000    74.000000  106.250000   35.675000   11.166667  1.650000   \n",
      "155036   7.900000    91.200000  141.666667   28.400000   10.075000  2.166667   \n",
      "100262   7.266667    70.666667  102.181818   32.092308   10.723077  5.560000   \n",
      "155327   8.066667    56.200000  122.714286   27.150000    9.014286  3.815385   \n",
      "104958   7.766667    89.600000  194.000000   37.466667   13.233333  4.400000   \n",
      "141626   8.775000    84.000000   81.200000   34.350000   11.640000  2.400000   \n",
      "105452   8.333333    82.100000  161.750000   38.233333   12.066667  3.240000   \n",
      "103873   8.333333    81.300000   76.250000   30.900000    9.666667  2.400000   \n",
      "133648   8.760000    82.700000  115.200000   37.700000   12.700000  1.233333   \n",
      "114791   7.566667    91.100000   90.000000   31.000000   10.600000  2.800000   \n",
      "163526   7.340000    59.333333   97.000000   31.200000   10.416667  3.042857   \n",
      "148771   8.900000    86.300000  159.250000   34.200000   10.933333  2.075000   \n",
      "175586   8.160000    77.000000   94.600000   41.228571   14.000000  2.875000   \n",
      "110021   9.225000    81.350000  148.400000   28.900000    9.125000  4.925000   \n",
      "...           ...          ...         ...         ...         ...       ...   \n",
      "103704   8.675000    88.000000  125.500000   33.425000   10.100000  2.433333   \n",
      "121289   9.933333    81.900000  138.666667   34.066667   11.000000  1.700000   \n",
      "129975   8.550000    89.900000  118.250000   31.875000   10.750000  1.250000   \n",
      "102396   7.800000    88.500000  134.800000   29.350000    9.500000  1.860000   \n",
      "184200   8.033333    89.200000  150.000000   29.533333    9.766667  1.425000   \n",
      "194204   7.750000    86.100000  120.600000   29.800000    9.666667  2.600000   \n",
      "108974   6.540000    84.833333  166.833333   36.040000   12.220000  2.900000   \n",
      "166418   9.500000    87.400000  276.333333   35.900000   11.733333  2.000000   \n",
      "125316   7.200000    83.300000  134.333333   27.125000    9.125000  1.850000   \n",
      "125153   7.780000    84.000000  102.666667   31.233333    9.920000  1.025000   \n",
      "177375   8.666667    71.350000  124.250000   28.200000    9.433333  1.150000   \n",
      "143409   8.083333    78.066667   96.833333   37.825000   11.400000  1.880000   \n",
      "161427   6.600000    78.870158  149.000000   28.225000    9.300000  1.450000   \n",
      "177794   8.466667    70.800000  102.500000   51.100000   16.200000  2.825000   \n",
      "170494   7.760000    92.800000  131.333333   29.216667    9.416667  1.220000   \n",
      "137857   8.500000    81.900000   84.400000   27.040000    8.280000  1.650000   \n",
      "198744   7.250000    91.500000  157.750000   34.400000   12.633333  1.400000   \n",
      "184353   7.466667    10.250000  157.750000   25.014286    8.416667  2.400000   \n",
      "172485   8.966667    78.870158  384.333333   23.000000    7.333333  5.450000   \n",
      "127737   7.640000    78.500000  132.666667   34.540000   11.280000  4.887500   \n",
      "181736   8.566667    86.600000  143.000000   26.466667    8.566667  3.000000   \n",
      "135642   7.900000    94.200000  148.000000   29.833333   10.200000  1.400000   \n",
      "151111   7.525000    85.700000   94.500000   29.240000    9.125000  3.812500   \n",
      "152550   7.953955    78.870158  140.251106   31.557127   10.426150  2.786205   \n",
      "168044   7.300000    89.000000  192.500000   26.911111    8.066667  4.050000   \n",
      "150731   7.671429    88.700000  158.428571   30.957143   10.000000  2.700000   \n",
      "112686   7.925000    84.100000  107.000000   26.820000    9.250000  1.666667   \n",
      "181449   7.666667    79.200000  166.250000   29.675000   10.575000  2.050000   \n",
      "134977   7.333333    70.000000  155.000000   32.900000   11.066667  1.800000   \n",
      "153703   7.342857    63.000000   91.428571   33.357143   10.750000  3.720000   \n",
      "\n",
      "                BUN  \n",
      "hadm_id              \n",
      "122609    50.142857  \n",
      "134462    16.000000  \n",
      "183686     7.750000  \n",
      "111970    54.000000  \n",
      "108923    70.333333  \n",
      "131488    43.400000  \n",
      "148905    40.000000  \n",
      "113900    20.250000  \n",
      "171178    17.000000  \n",
      "100765    17.333333  \n",
      "107880    11.000000  \n",
      "128219    20.000000  \n",
      "191517    29.600000  \n",
      "168503    12.400000  \n",
      "108911    55.333333  \n",
      "170452    42.500000  \n",
      "172260    14.500000  \n",
      "155036    14.666667  \n",
      "100262    30.636364  \n",
      "155327    53.714286  \n",
      "104958    13.333333  \n",
      "141626    35.600000  \n",
      "105452    27.000000  \n",
      "103873    38.250000  \n",
      "133648    27.250000  \n",
      "114791    28.666667  \n",
      "163526    41.666667  \n",
      "148771    43.000000  \n",
      "175586    34.600000  \n",
      "110021    29.800000  \n",
      "...             ...  \n",
      "103704    60.250000  \n",
      "121289   104.000000  \n",
      "129975    21.500000  \n",
      "102396    16.833333  \n",
      "184200    26.333333  \n",
      "194204     7.200000  \n",
      "108974     4.833333  \n",
      "166418    40.666667  \n",
      "125316    77.666667  \n",
      "125153    54.166667  \n",
      "177375    28.750000  \n",
      "143409    37.166667  \n",
      "161427     7.000000  \n",
      "177794    60.555556  \n",
      "170494    32.428571  \n",
      "137857    17.200000  \n",
      "198744    24.500000  \n",
      "184353    36.750000  \n",
      "172485    50.000000  \n",
      "127737    10.666667  \n",
      "181736    34.333333  \n",
      "135642    18.000000  \n",
      "151111    43.750000  \n",
      "152550    36.056456  \n",
      "168044    34.250000  \n",
      "150731    35.857143  \n",
      "112686    49.833333  \n",
      "181449    31.875000  \n",
      "134977     9.750000  \n",
      "153703    72.571429  \n",
      "\n",
      "[1184 rows x 13 columns]\n"
     ]
    }
   ],
   "source": [
    "# Replace NaN values with the mean of each column. In the actual ML phase it may be worth figuring out WHY\n",
    "# Some values are missing. Here we will simply continue\n",
    "patient_vitals_fixed = patient_vitals_fixed.fillna(patient_vitals.mean())"
   ]
  },
  {
   "cell_type": "code",
   "execution_count": 222,
   "metadata": {
    "collapsed": false
   },
   "outputs": [],
   "source": [
    "# New patient info dataframe finally with vitals\n",
    "vital_patient_info = patient_info.join(patient_vitals_fixed, on='hadm_id')\n",
    "\n",
    "# New pos and neg df for easy consideration of survival\n",
    "pos = vital_patient_info[vital_patient_info['death_period'] == 0]\n",
    "neg = vital_patient_info[vital_patient_info['death_period'] == 1]"
   ]
  },
  {
   "cell_type": "code",
   "execution_count": null,
   "metadata": {
    "collapsed": true
   },
   "outputs": [],
   "source": []
  }
 ],
 "metadata": {
  "kernelspec": {
   "display_name": "Python 2",
   "language": "python",
   "name": "python2"
  },
  "language_info": {
   "codemirror_mode": {
    "name": "ipython",
    "version": 2
   },
   "file_extension": ".py",
   "mimetype": "text/x-python",
   "name": "python",
   "nbconvert_exporter": "python",
   "pygments_lexer": "ipython2",
   "version": "2.7.13"
  }
 },
 "nbformat": 4,
 "nbformat_minor": 2
}
